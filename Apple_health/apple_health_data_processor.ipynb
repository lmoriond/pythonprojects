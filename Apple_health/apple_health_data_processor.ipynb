{
 "cells": [
  {
   "cell_type": "markdown",
   "metadata": {},
   "source": [
    "# Apple Health Data Processor"
   ]
  },
  {
   "cell_type": "markdown",
   "metadata": {},
   "source": [
    "## Dependencies and Libraries"
   ]
  },
  {
   "cell_type": "code",
   "execution_count": 1,
   "metadata": {},
   "outputs": [],
   "source": [
    "#In order to fix these timezone errors, we will use the python timezone package and leverage a couple of simple functions to convert from UTC to our own timezone. We then set a few relevant date references\n",
    "from datetime import date, datetime, timedelta as td\n",
    "import pytz\n",
    "import numpy as np\n",
    "import pandas as pd\n",
    "import matplotlib.pyplot as plt\n",
    "%matplotlib inline"
   ]
  },
  {
   "cell_type": "markdown",
   "metadata": {},
   "source": [
    "------"
   ]
  },
  {
   "cell_type": "markdown",
   "metadata": {},
   "source": [
    "## Functions for Processing Dates and Timezones"
   ]
  },
  {
   "cell_type": "code",
   "execution_count": 2,
   "metadata": {},
   "outputs": [],
   "source": [
    "# functions to convert UTC to Buenos Aires's time zone and extract date/time elements\n",
    "convert_tz = lambda x: x.to_pydatetime().replace(tzinfo=pytz.utc).astimezone(pytz.timezone('America/Argentina/Buenos_Aires'))\n",
    "get_year = lambda x: convert_tz(x).year\n",
    "get_month = lambda x: '{}-{:02}'.format(convert_tz(x).year, convert_tz(x).month) #inefficient\n",
    "get_date = lambda x: '{}-{:02}-{:02}'.format(convert_tz(x).year, convert_tz(x).month, convert_tz(x).day) #inefficient\n",
    "get_day = lambda x: convert_tz(x).day\n",
    "get_hour = lambda x: convert_tz(x).hour\n",
    "get_minute = lambda x: convert_tz(x).minute\n",
    "get_day_of_week = lambda x: convert_tz(x).weekday()"
   ]
  },
  {
   "cell_type": "markdown",
   "metadata": {},
   "source": [
    "---"
   ]
  },
  {
   "cell_type": "markdown",
   "metadata": {},
   "source": [
    "## Steps"
   ]
  },
  {
   "cell_type": "code",
   "execution_count": 3,
   "metadata": {},
   "outputs": [],
   "source": [
    "steps = pd.read_csv(\"data/StepCount.csv\")"
   ]
  },
  {
   "cell_type": "code",
   "execution_count": 4,
   "metadata": {},
   "outputs": [
    {
     "data": {
      "text/html": [
       "<div>\n",
       "<style scoped>\n",
       "    .dataframe tbody tr th:only-of-type {\n",
       "        vertical-align: middle;\n",
       "    }\n",
       "\n",
       "    .dataframe tbody tr th {\n",
       "        vertical-align: top;\n",
       "    }\n",
       "\n",
       "    .dataframe thead th {\n",
       "        text-align: right;\n",
       "    }\n",
       "</style>\n",
       "<table border=\"1\" class=\"dataframe\">\n",
       "  <thead>\n",
       "    <tr style=\"text-align: right;\">\n",
       "      <th></th>\n",
       "      <th>sourceName</th>\n",
       "      <th>sourceVersion</th>\n",
       "      <th>device</th>\n",
       "      <th>type</th>\n",
       "      <th>unit</th>\n",
       "      <th>creationDate</th>\n",
       "      <th>startDate</th>\n",
       "      <th>endDate</th>\n",
       "      <th>value</th>\n",
       "    </tr>\n",
       "  </thead>\n",
       "  <tbody>\n",
       "    <tr>\n",
       "      <th>102541</th>\n",
       "      <td>Lucas’s Apple Watch</td>\n",
       "      <td>8.5.1</td>\n",
       "      <td>&lt;&lt;HKDevice: 0x283e8cb40&gt;, name:Apple Watch, ma...</td>\n",
       "      <td>StepCount</td>\n",
       "      <td>count</td>\n",
       "      <td>2022-05-08 20:33:15 -0300</td>\n",
       "      <td>2022-05-08 20:17:33 -0300</td>\n",
       "      <td>2022-05-08 20:19:31 -0300</td>\n",
       "      <td>22</td>\n",
       "    </tr>\n",
       "    <tr>\n",
       "      <th>102542</th>\n",
       "      <td>Lucas’s iPhone</td>\n",
       "      <td>15.4.1</td>\n",
       "      <td>&lt;&lt;HKDevice: 0x283e8ff70&gt;, name:iPhone, manufac...</td>\n",
       "      <td>StepCount</td>\n",
       "      <td>count</td>\n",
       "      <td>2022-05-08 20:55:57 -0300</td>\n",
       "      <td>2022-05-08 20:42:32 -0300</td>\n",
       "      <td>2022-05-08 20:43:36 -0300</td>\n",
       "      <td>83</td>\n",
       "    </tr>\n",
       "    <tr>\n",
       "      <th>102543</th>\n",
       "      <td>Lucas’s iPhone</td>\n",
       "      <td>15.4.1</td>\n",
       "      <td>&lt;&lt;HKDevice: 0x283e8ff70&gt;, name:iPhone, manufac...</td>\n",
       "      <td>StepCount</td>\n",
       "      <td>count</td>\n",
       "      <td>2022-05-08 21:50:51 -0300</td>\n",
       "      <td>2022-05-08 21:39:48 -0300</td>\n",
       "      <td>2022-05-08 21:48:53 -0300</td>\n",
       "      <td>67</td>\n",
       "    </tr>\n",
       "    <tr>\n",
       "      <th>102544</th>\n",
       "      <td>Lucas’s iPhone</td>\n",
       "      <td>15.4.1</td>\n",
       "      <td>&lt;&lt;HKDevice: 0x283e8ff70&gt;, name:iPhone, manufac...</td>\n",
       "      <td>StepCount</td>\n",
       "      <td>count</td>\n",
       "      <td>2022-05-08 22:00:55 -0300</td>\n",
       "      <td>2022-05-08 21:49:52 -0300</td>\n",
       "      <td>2022-05-08 21:50:08 -0300</td>\n",
       "      <td>19</td>\n",
       "    </tr>\n",
       "    <tr>\n",
       "      <th>102545</th>\n",
       "      <td>Lucas’s iPhone</td>\n",
       "      <td>15.4.1</td>\n",
       "      <td>&lt;&lt;HKDevice: 0x283e8ff70&gt;, name:iPhone, manufac...</td>\n",
       "      <td>StepCount</td>\n",
       "      <td>count</td>\n",
       "      <td>2022-05-08 22:27:39 -0300</td>\n",
       "      <td>2022-05-08 22:16:16 -0300</td>\n",
       "      <td>2022-05-08 22:18:12 -0300</td>\n",
       "      <td>39</td>\n",
       "    </tr>\n",
       "  </tbody>\n",
       "</table>\n",
       "</div>"
      ],
      "text/plain": [
       "                 sourceName sourceVersion  \\\n",
       "102541  Lucas’s Apple Watch         8.5.1   \n",
       "102542       Lucas’s iPhone        15.4.1   \n",
       "102543       Lucas’s iPhone        15.4.1   \n",
       "102544       Lucas’s iPhone        15.4.1   \n",
       "102545       Lucas’s iPhone        15.4.1   \n",
       "\n",
       "                                                   device       type   unit  \\\n",
       "102541  <<HKDevice: 0x283e8cb40>, name:Apple Watch, ma...  StepCount  count   \n",
       "102542  <<HKDevice: 0x283e8ff70>, name:iPhone, manufac...  StepCount  count   \n",
       "102543  <<HKDevice: 0x283e8ff70>, name:iPhone, manufac...  StepCount  count   \n",
       "102544  <<HKDevice: 0x283e8ff70>, name:iPhone, manufac...  StepCount  count   \n",
       "102545  <<HKDevice: 0x283e8ff70>, name:iPhone, manufac...  StepCount  count   \n",
       "\n",
       "                     creationDate                  startDate  \\\n",
       "102541  2022-05-08 20:33:15 -0300  2022-05-08 20:17:33 -0300   \n",
       "102542  2022-05-08 20:55:57 -0300  2022-05-08 20:42:32 -0300   \n",
       "102543  2022-05-08 21:50:51 -0300  2022-05-08 21:39:48 -0300   \n",
       "102544  2022-05-08 22:00:55 -0300  2022-05-08 21:49:52 -0300   \n",
       "102545  2022-05-08 22:27:39 -0300  2022-05-08 22:16:16 -0300   \n",
       "\n",
       "                          endDate  value  \n",
       "102541  2022-05-08 20:19:31 -0300     22  \n",
       "102542  2022-05-08 20:43:36 -0300     83  \n",
       "102543  2022-05-08 21:48:53 -0300     67  \n",
       "102544  2022-05-08 21:50:08 -0300     19  \n",
       "102545  2022-05-08 22:18:12 -0300     39  "
      ]
     },
     "execution_count": 4,
     "metadata": {},
     "output_type": "execute_result"
    }
   ],
   "source": [
    "steps.tail()"
   ]
  },
  {
   "cell_type": "code",
   "execution_count": 5,
   "metadata": {},
   "outputs": [],
   "source": [
    "# parse out date and time elements as Buenos Aires time\n",
    "steps['startDate'] = pd.to_datetime(steps['startDate'])\n",
    "steps['year'] = steps['startDate'].map(get_year)\n",
    "steps['month'] = steps['startDate'].map(get_month)\n",
    "steps['date'] = steps['startDate'].map(get_date)\n",
    "steps['day'] = steps['startDate'].map(get_day)\n",
    "steps['hour'] = steps['startDate'].map(get_hour)\n",
    "steps['dow'] = steps['startDate'].map(get_day_of_week)"
   ]
  },
  {
   "cell_type": "code",
   "execution_count": 7,
   "metadata": {},
   "outputs": [
    {
     "data": {
      "text/html": [
       "<div>\n",
       "<style scoped>\n",
       "    .dataframe tbody tr th:only-of-type {\n",
       "        vertical-align: middle;\n",
       "    }\n",
       "\n",
       "    .dataframe tbody tr th {\n",
       "        vertical-align: top;\n",
       "    }\n",
       "\n",
       "    .dataframe thead th {\n",
       "        text-align: right;\n",
       "    }\n",
       "</style>\n",
       "<table border=\"1\" class=\"dataframe\">\n",
       "  <thead>\n",
       "    <tr style=\"text-align: right;\">\n",
       "      <th></th>\n",
       "      <th>sourceName</th>\n",
       "      <th>sourceVersion</th>\n",
       "      <th>device</th>\n",
       "      <th>type</th>\n",
       "      <th>unit</th>\n",
       "      <th>creationDate</th>\n",
       "      <th>startDate</th>\n",
       "      <th>endDate</th>\n",
       "      <th>value</th>\n",
       "      <th>year</th>\n",
       "      <th>month</th>\n",
       "      <th>date</th>\n",
       "      <th>day</th>\n",
       "      <th>hour</th>\n",
       "      <th>dow</th>\n",
       "    </tr>\n",
       "  </thead>\n",
       "  <tbody>\n",
       "    <tr>\n",
       "      <th>0</th>\n",
       "      <td>Lucas’s Apple Watch</td>\n",
       "      <td>5.1.1</td>\n",
       "      <td>&lt;&lt;HKDevice: 0x283e8e8f0&gt;, name:Apple Watch, ma...</td>\n",
       "      <td>StepCount</td>\n",
       "      <td>count</td>\n",
       "      <td>2018-12-08 18:40:44 -0300</td>\n",
       "      <td>2018-12-08 18:29:58-03:00</td>\n",
       "      <td>2018-12-08 18:36:29 -0300</td>\n",
       "      <td>45</td>\n",
       "      <td>2018</td>\n",
       "      <td>2018-12</td>\n",
       "      <td>2018-12-08</td>\n",
       "      <td>8</td>\n",
       "      <td>15</td>\n",
       "      <td>5</td>\n",
       "    </tr>\n",
       "    <tr>\n",
       "      <th>1</th>\n",
       "      <td>Lucas’s Apple Watch</td>\n",
       "      <td>5.1.1</td>\n",
       "      <td>&lt;&lt;HKDevice: 0x283e8e8f0&gt;, name:Apple Watch, ma...</td>\n",
       "      <td>StepCount</td>\n",
       "      <td>count</td>\n",
       "      <td>2018-12-08 18:52:08 -0300</td>\n",
       "      <td>2018-12-08 18:51:03-03:00</td>\n",
       "      <td>2018-12-08 18:51:05 -0300</td>\n",
       "      <td>1</td>\n",
       "      <td>2018</td>\n",
       "      <td>2018-12</td>\n",
       "      <td>2018-12-08</td>\n",
       "      <td>8</td>\n",
       "      <td>15</td>\n",
       "      <td>5</td>\n",
       "    </tr>\n",
       "    <tr>\n",
       "      <th>2</th>\n",
       "      <td>Lucas’s Apple Watch</td>\n",
       "      <td>5.1.1</td>\n",
       "      <td>&lt;&lt;HKDevice: 0x283e8e8f0&gt;, name:Apple Watch, ma...</td>\n",
       "      <td>StepCount</td>\n",
       "      <td>count</td>\n",
       "      <td>2018-12-08 19:08:38 -0300</td>\n",
       "      <td>2018-12-08 18:59:30-03:00</td>\n",
       "      <td>2018-12-08 19:00:28 -0300</td>\n",
       "      <td>21</td>\n",
       "      <td>2018</td>\n",
       "      <td>2018-12</td>\n",
       "      <td>2018-12-08</td>\n",
       "      <td>8</td>\n",
       "      <td>15</td>\n",
       "      <td>5</td>\n",
       "    </tr>\n",
       "    <tr>\n",
       "      <th>3</th>\n",
       "      <td>Lucas’s Apple Watch</td>\n",
       "      <td>5.1.1</td>\n",
       "      <td>&lt;&lt;HKDevice: 0x283e8e8f0&gt;, name:Apple Watch, ma...</td>\n",
       "      <td>StepCount</td>\n",
       "      <td>count</td>\n",
       "      <td>2018-12-08 19:08:38 -0300</td>\n",
       "      <td>2018-12-08 19:00:28-03:00</td>\n",
       "      <td>2018-12-08 19:01:27 -0300</td>\n",
       "      <td>82</td>\n",
       "      <td>2018</td>\n",
       "      <td>2018-12</td>\n",
       "      <td>2018-12-08</td>\n",
       "      <td>8</td>\n",
       "      <td>16</td>\n",
       "      <td>5</td>\n",
       "    </tr>\n",
       "    <tr>\n",
       "      <th>4</th>\n",
       "      <td>Lucas’s Apple Watch</td>\n",
       "      <td>5.1.1</td>\n",
       "      <td>&lt;&lt;HKDevice: 0x283e8e8f0&gt;, name:Apple Watch, ma...</td>\n",
       "      <td>StepCount</td>\n",
       "      <td>count</td>\n",
       "      <td>2018-12-08 19:08:38 -0300</td>\n",
       "      <td>2018-12-08 19:01:27-03:00</td>\n",
       "      <td>2018-12-08 19:02:26 -0300</td>\n",
       "      <td>93</td>\n",
       "      <td>2018</td>\n",
       "      <td>2018-12</td>\n",
       "      <td>2018-12-08</td>\n",
       "      <td>8</td>\n",
       "      <td>16</td>\n",
       "      <td>5</td>\n",
       "    </tr>\n",
       "  </tbody>\n",
       "</table>\n",
       "</div>"
      ],
      "text/plain": [
       "            sourceName sourceVersion  \\\n",
       "0  Lucas’s Apple Watch         5.1.1   \n",
       "1  Lucas’s Apple Watch         5.1.1   \n",
       "2  Lucas’s Apple Watch         5.1.1   \n",
       "3  Lucas’s Apple Watch         5.1.1   \n",
       "4  Lucas’s Apple Watch         5.1.1   \n",
       "\n",
       "                                              device       type   unit  \\\n",
       "0  <<HKDevice: 0x283e8e8f0>, name:Apple Watch, ma...  StepCount  count   \n",
       "1  <<HKDevice: 0x283e8e8f0>, name:Apple Watch, ma...  StepCount  count   \n",
       "2  <<HKDevice: 0x283e8e8f0>, name:Apple Watch, ma...  StepCount  count   \n",
       "3  <<HKDevice: 0x283e8e8f0>, name:Apple Watch, ma...  StepCount  count   \n",
       "4  <<HKDevice: 0x283e8e8f0>, name:Apple Watch, ma...  StepCount  count   \n",
       "\n",
       "                creationDate                 startDate  \\\n",
       "0  2018-12-08 18:40:44 -0300 2018-12-08 18:29:58-03:00   \n",
       "1  2018-12-08 18:52:08 -0300 2018-12-08 18:51:03-03:00   \n",
       "2  2018-12-08 19:08:38 -0300 2018-12-08 18:59:30-03:00   \n",
       "3  2018-12-08 19:08:38 -0300 2018-12-08 19:00:28-03:00   \n",
       "4  2018-12-08 19:08:38 -0300 2018-12-08 19:01:27-03:00   \n",
       "\n",
       "                     endDate  value  year    month        date  day  hour  dow  \n",
       "0  2018-12-08 18:36:29 -0300     45  2018  2018-12  2018-12-08    8    15    5  \n",
       "1  2018-12-08 18:51:05 -0300      1  2018  2018-12  2018-12-08    8    15    5  \n",
       "2  2018-12-08 19:00:28 -0300     21  2018  2018-12  2018-12-08    8    15    5  \n",
       "3  2018-12-08 19:01:27 -0300     82  2018  2018-12  2018-12-08    8    16    5  \n",
       "4  2018-12-08 19:02:26 -0300     93  2018  2018-12  2018-12-08    8    16    5  "
      ]
     },
     "execution_count": 7,
     "metadata": {},
     "output_type": "execute_result"
    }
   ],
   "source": [
    "steps.head()"
   ]
  },
  {
   "cell_type": "code",
   "execution_count": 8,
   "metadata": {},
   "outputs": [
    {
     "data": {
      "text/plain": [
       "Index(['sourceName', 'sourceVersion', 'device', 'type', 'unit', 'creationDate',\n",
       "       'startDate', 'endDate', 'value', 'year', 'month', 'date', 'day', 'hour',\n",
       "       'dow'],\n",
       "      dtype='object')"
      ]
     },
     "execution_count": 8,
     "metadata": {},
     "output_type": "execute_result"
    }
   ],
   "source": [
    "steps.columns"
   ]
  },
  {
   "cell_type": "code",
   "execution_count": 9,
   "metadata": {},
   "outputs": [],
   "source": [
    "steps_by_date = steps.groupby(['date'])['value'].sum().reset_index(name='Steps')"
   ]
  },
  {
   "cell_type": "code",
   "execution_count": 10,
   "metadata": {},
   "outputs": [
    {
     "data": {
      "text/html": [
       "<div>\n",
       "<style scoped>\n",
       "    .dataframe tbody tr th:only-of-type {\n",
       "        vertical-align: middle;\n",
       "    }\n",
       "\n",
       "    .dataframe tbody tr th {\n",
       "        vertical-align: top;\n",
       "    }\n",
       "\n",
       "    .dataframe thead th {\n",
       "        text-align: right;\n",
       "    }\n",
       "</style>\n",
       "<table border=\"1\" class=\"dataframe\">\n",
       "  <thead>\n",
       "    <tr style=\"text-align: right;\">\n",
       "      <th></th>\n",
       "      <th>date</th>\n",
       "      <th>Steps</th>\n",
       "    </tr>\n",
       "  </thead>\n",
       "  <tbody>\n",
       "    <tr>\n",
       "      <th>1243</th>\n",
       "      <td>2022-05-04</td>\n",
       "      <td>1338</td>\n",
       "    </tr>\n",
       "    <tr>\n",
       "      <th>1244</th>\n",
       "      <td>2022-05-05</td>\n",
       "      <td>797</td>\n",
       "    </tr>\n",
       "    <tr>\n",
       "      <th>1245</th>\n",
       "      <td>2022-05-06</td>\n",
       "      <td>7661</td>\n",
       "    </tr>\n",
       "    <tr>\n",
       "      <th>1246</th>\n",
       "      <td>2022-05-07</td>\n",
       "      <td>12170</td>\n",
       "    </tr>\n",
       "    <tr>\n",
       "      <th>1247</th>\n",
       "      <td>2022-05-08</td>\n",
       "      <td>1606</td>\n",
       "    </tr>\n",
       "  </tbody>\n",
       "</table>\n",
       "</div>"
      ],
      "text/plain": [
       "            date  Steps\n",
       "1243  2022-05-04   1338\n",
       "1244  2022-05-05    797\n",
       "1245  2022-05-06   7661\n",
       "1246  2022-05-07  12170\n",
       "1247  2022-05-08   1606"
      ]
     },
     "execution_count": 10,
     "metadata": {},
     "output_type": "execute_result"
    }
   ],
   "source": [
    "steps_by_date.tail()   ##First, we group steps by the date and sum their value"
   ]
  },
  {
   "cell_type": "code",
   "execution_count": 11,
   "metadata": {},
   "outputs": [],
   "source": [
    "# steps_by_date.tail(10)   ##We then create a new data frame called “steps_by_date.” We can then see each date has a steps total and export it to CSV.\n",
    "steps_by_date.to_csv(\"data/steps_per_day.csv\", index=False)"
   ]
  },
  {
   "cell_type": "markdown",
   "metadata": {},
   "source": [
    "--# There is one problem though. This includes both step data from both the watch and phone. While other data points are unique, steps is a special example since it is collected on both the phone and watch. Let’s clean this up in the next section."
   ]
  },
  {
   "cell_type": "markdown",
   "metadata": {},
   "source": [
    "### Use Only Watch Steps, Remove Phone Steps"
   ]
  },
  {
   "cell_type": "code",
   "execution_count": 12,
   "metadata": {},
   "outputs": [],
   "source": [
    "steps_device_by_year = steps.groupby(['year', 'sourceName'])['value'].sum().reset_index(name='Steps')"
   ]
  },
  {
   "cell_type": "code",
   "execution_count": 13,
   "metadata": {},
   "outputs": [
    {
     "data": {
      "text/html": [
       "<div>\n",
       "<style scoped>\n",
       "    .dataframe tbody tr th:only-of-type {\n",
       "        vertical-align: middle;\n",
       "    }\n",
       "\n",
       "    .dataframe tbody tr th {\n",
       "        vertical-align: top;\n",
       "    }\n",
       "\n",
       "    .dataframe thead th {\n",
       "        text-align: right;\n",
       "    }\n",
       "</style>\n",
       "<table border=\"1\" class=\"dataframe\">\n",
       "  <thead>\n",
       "    <tr style=\"text-align: right;\">\n",
       "      <th></th>\n",
       "      <th>year</th>\n",
       "      <th>sourceName</th>\n",
       "      <th>Steps</th>\n",
       "    </tr>\n",
       "  </thead>\n",
       "  <tbody>\n",
       "    <tr>\n",
       "      <th>0</th>\n",
       "      <td>2018</td>\n",
       "      <td>Lucas’s Apple Watch</td>\n",
       "      <td>172958</td>\n",
       "    </tr>\n",
       "    <tr>\n",
       "      <th>1</th>\n",
       "      <td>2018</td>\n",
       "      <td>Lucas’s iPhone</td>\n",
       "      <td>165734</td>\n",
       "    </tr>\n",
       "    <tr>\n",
       "      <th>2</th>\n",
       "      <td>2019</td>\n",
       "      <td>Lucas’s Apple Watch</td>\n",
       "      <td>2433243</td>\n",
       "    </tr>\n",
       "    <tr>\n",
       "      <th>3</th>\n",
       "      <td>2019</td>\n",
       "      <td>Lucas’s iPhone</td>\n",
       "      <td>755185</td>\n",
       "    </tr>\n",
       "    <tr>\n",
       "      <th>4</th>\n",
       "      <td>2020</td>\n",
       "      <td>Lucas’s Apple Watch</td>\n",
       "      <td>1298423</td>\n",
       "    </tr>\n",
       "    <tr>\n",
       "      <th>5</th>\n",
       "      <td>2020</td>\n",
       "      <td>Lucas’s iPhone</td>\n",
       "      <td>919411</td>\n",
       "    </tr>\n",
       "    <tr>\n",
       "      <th>6</th>\n",
       "      <td>2021</td>\n",
       "      <td>Lucas’s Apple Watch</td>\n",
       "      <td>1051562</td>\n",
       "    </tr>\n",
       "    <tr>\n",
       "      <th>7</th>\n",
       "      <td>2021</td>\n",
       "      <td>Lucas’s iPhone</td>\n",
       "      <td>750253</td>\n",
       "    </tr>\n",
       "    <tr>\n",
       "      <th>8</th>\n",
       "      <td>2022</td>\n",
       "      <td>Lucas’s Apple Watch</td>\n",
       "      <td>368316</td>\n",
       "    </tr>\n",
       "    <tr>\n",
       "      <th>9</th>\n",
       "      <td>2022</td>\n",
       "      <td>Lucas’s iPhone</td>\n",
       "      <td>177233</td>\n",
       "    </tr>\n",
       "  </tbody>\n",
       "</table>\n",
       "</div>"
      ],
      "text/plain": [
       "   year           sourceName    Steps\n",
       "0  2018  Lucas’s Apple Watch   172958\n",
       "1  2018       Lucas’s iPhone   165734\n",
       "2  2019  Lucas’s Apple Watch  2433243\n",
       "3  2019       Lucas’s iPhone   755185\n",
       "4  2020  Lucas’s Apple Watch  1298423\n",
       "5  2020       Lucas’s iPhone   919411\n",
       "6  2021  Lucas’s Apple Watch  1051562\n",
       "7  2021       Lucas’s iPhone   750253\n",
       "8  2022  Lucas’s Apple Watch   368316\n",
       "9  2022       Lucas’s iPhone   177233"
      ]
     },
     "execution_count": 13,
     "metadata": {},
     "output_type": "execute_result"
    }
   ],
   "source": [
    "steps_device_by_year   ##As you can see, I have markedly different results on the phone and watch, and the combined results increases my step count by nearly 70%!"
   ]
  },
  {
   "cell_type": "code",
   "execution_count": 14,
   "metadata": {},
   "outputs": [
    {
     "data": {
      "text/plain": [
       "array(['Lucas’s Apple\\xa0Watch', 'Lucas’s iPhone'], dtype=object)"
      ]
     },
     "execution_count": 14,
     "metadata": {},
     "output_type": "execute_result"
    }
   ],
   "source": [
    "steps.sourceName.unique()"
   ]
  },
  {
   "cell_type": "code",
   "execution_count": 16,
   "metadata": {},
   "outputs": [
    {
     "data": {
      "text/html": [
       "<div>\n",
       "<style scoped>\n",
       "    .dataframe tbody tr th:only-of-type {\n",
       "        vertical-align: middle;\n",
       "    }\n",
       "\n",
       "    .dataframe tbody tr th {\n",
       "        vertical-align: top;\n",
       "    }\n",
       "\n",
       "    .dataframe thead th {\n",
       "        text-align: right;\n",
       "    }\n",
       "</style>\n",
       "<table border=\"1\" class=\"dataframe\">\n",
       "  <thead>\n",
       "    <tr style=\"text-align: right;\">\n",
       "      <th></th>\n",
       "      <th>sourceName</th>\n",
       "      <th>sourceVersion</th>\n",
       "      <th>device</th>\n",
       "      <th>type</th>\n",
       "      <th>unit</th>\n",
       "      <th>creationDate</th>\n",
       "      <th>startDate</th>\n",
       "      <th>endDate</th>\n",
       "      <th>value</th>\n",
       "      <th>year</th>\n",
       "      <th>month</th>\n",
       "      <th>date</th>\n",
       "      <th>day</th>\n",
       "      <th>hour</th>\n",
       "      <th>dow</th>\n",
       "    </tr>\n",
       "  </thead>\n",
       "  <tbody>\n",
       "  </tbody>\n",
       "</table>\n",
       "</div>"
      ],
      "text/plain": [
       "Empty DataFrame\n",
       "Columns: [sourceName, sourceVersion, device, type, unit, creationDate, startDate, endDate, value, year, month, date, day, hour, dow]\n",
       "Index: []"
      ]
     },
     "execution_count": 16,
     "metadata": {},
     "output_type": "execute_result"
    }
   ],
   "source": [
    "# drop phone steps\n",
    "steps = steps[steps.sourceName == 'Lucas’s Apple Watch']\n",
    "# steps.head()"
   ]
  },
  {
   "cell_type": "markdown",
   "metadata": {},
   "source": [
    "## Rolling Average"
   ]
  },
  {
   "cell_type": "code",
   "execution_count": 17,
   "metadata": {},
   "outputs": [
    {
     "data": {
      "text/plain": [
       "<AxesSubplot:title={'center':'Daily step counts rolling mean over 10 days'}, xlabel='date'>"
      ]
     },
     "execution_count": 17,
     "metadata": {},
     "output_type": "execute_result"
    },
    {
     "data": {
      "image/png": "[encoded data removed]",
      "text/plain": [
       "<Figure size 720x432 with 1 Axes>"
      ]
     },
     "metadata": {
      "needs_background": "light"
     },
     "output_type": "display_data"
    }
   ],
   "source": [
    "# we can clearly spot when I took my holidays 2020 jan to Thailand & 2021 Oct to Spain\n",
    "steps_by_date['RollingMeanSteps'] = steps_by_date.Steps.rolling(window=10, center=True).mean()\n",
    "steps_by_date.plot(x='date', y='RollingMeanSteps', title= 'Daily step counts rolling mean over 10 days', figsize=[10, 6])"
   ]
  },
  {
   "cell_type": "markdown",
   "metadata": {},
   "source": [
    "## Steps by Day of Week"
   ]
  },
  {
   "cell_type": "code",
   "execution_count": 18,
   "metadata": {},
   "outputs": [],
   "source": [
    "# First, let’s create a day of the week column:\n",
    "steps_by_date['date'] = pd.to_datetime(steps_by_date['date'])\n",
    "steps_by_date['dow'] = steps_by_date['date'].dt.weekday"
   ]
  },
  {
   "cell_type": "code",
   "execution_count": 20,
   "metadata": {
    "scrolled": true
   },
   "outputs": [
    {
     "data": {
      "text/plain": [
       "Text(0.5, 0, 'Day of Week')"
      ]
     },
     "execution_count": 20,
     "metadata": {},
     "output_type": "execute_result"
    },
    {
     "data": {
      "image/png": "[encoded data removed]",
      "text/plain": [
       "<Figure size 720x432 with 1 Axes>"
      ]
     },
     "metadata": {
      "needs_background": "light"
     },
     "output_type": "display_data"
    }
   ],
   "source": [
    "# We can then use some simple code to group the data by day of the week, get the day of the week mean:\n",
    "data = steps_by_date.groupby(['dow'])['Steps'].mean()\n",
    "\n",
    "fig, ax = plt.subplots(figsize=[10, 6])\n",
    "ax = data.plot(kind='bar', x='day_of_week')\n",
    "\n",
    "n_groups = len(data)\n",
    "index = np.arange(n_groups)\n",
    "opacity = 0.75\n",
    "\n",
    "#fig, ax = plt.subplots(figsize=[10, 6])\n",
    "ax.yaxis.grid(True)\n",
    "\n",
    "plt.suptitle('Average Steps by Day of the Week', fontsize=16)\n",
    "dow_labels = ['Monday', 'Tuesday', 'Wednesday', 'Thursday', 'Friday', 'Saturday', 'Sunday']\n",
    "plt.xticks(index, dow_labels, rotation=45)\n",
    "plt.xlabel('Day of Week', fontsize=12, color='Green')"
   ]
  },
  {
   "cell_type": "markdown",
   "metadata": {},
   "source": [
    "### After 2 years with COVID + Homeoffice its clear why I could't reach the 10K avg :("
   ]
  },
  {
   "cell_type": "markdown",
   "metadata": {},
   "source": [
    "## Weight visualizations"
   ]
  },
  {
   "cell_type": "code",
   "execution_count": 42,
   "metadata": {},
   "outputs": [],
   "source": [
    "weight = pd.read_csv(\"data/BodyMass.csv\")"
   ]
  },
  {
   "cell_type": "code",
   "execution_count": 43,
   "metadata": {},
   "outputs": [],
   "source": [
    "# weight.columns"
   ]
  },
  {
   "cell_type": "code",
   "execution_count": 44,
   "metadata": {},
   "outputs": [],
   "source": [
    "# parse out date and time elements as Shanghai time\n",
    "weight['startDate'] = pd.to_datetime(weight['startDate'])\n",
    "weight['year'] = weight['startDate'].map(get_year)\n",
    "weight['month'] = weight['startDate'].map(get_month)\n",
    "weight['date'] = weight['startDate'].map(get_date)"
   ]
  },
  {
   "cell_type": "code",
   "execution_count": 45,
   "metadata": {},
   "outputs": [
    {
     "data": {
      "text/html": [
       "<div>\n",
       "<style scoped>\n",
       "    .dataframe tbody tr th:only-of-type {\n",
       "        vertical-align: middle;\n",
       "    }\n",
       "\n",
       "    .dataframe tbody tr th {\n",
       "        vertical-align: top;\n",
       "    }\n",
       "\n",
       "    .dataframe thead th {\n",
       "        text-align: right;\n",
       "    }\n",
       "</style>\n",
       "<table border=\"1\" class=\"dataframe\">\n",
       "  <thead>\n",
       "    <tr style=\"text-align: right;\">\n",
       "      <th></th>\n",
       "      <th>sourceName</th>\n",
       "      <th>sourceVersion</th>\n",
       "      <th>device</th>\n",
       "      <th>type</th>\n",
       "      <th>unit</th>\n",
       "      <th>creationDate</th>\n",
       "      <th>startDate</th>\n",
       "      <th>endDate</th>\n",
       "      <th>value</th>\n",
       "      <th>year</th>\n",
       "      <th>month</th>\n",
       "      <th>date</th>\n",
       "    </tr>\n",
       "  </thead>\n",
       "  <tbody>\n",
       "    <tr>\n",
       "      <th>0</th>\n",
       "      <td>Health</td>\n",
       "      <td>10.2.1</td>\n",
       "      <td>NaN</td>\n",
       "      <td>BodyMass</td>\n",
       "      <td>kg</td>\n",
       "      <td>2017-04-27 21:06:42 -0300</td>\n",
       "      <td>2017-04-27 21:06:42-03:00</td>\n",
       "      <td>2017-04-27 21:06:42 -0300</td>\n",
       "      <td>63</td>\n",
       "      <td>2017</td>\n",
       "      <td>2017-04</td>\n",
       "      <td>2017-04-27</td>\n",
       "    </tr>\n",
       "    <tr>\n",
       "      <th>1</th>\n",
       "      <td>Health</td>\n",
       "      <td>12.1.2</td>\n",
       "      <td>NaN</td>\n",
       "      <td>BodyMass</td>\n",
       "      <td>kg</td>\n",
       "      <td>2019-01-09 21:37:52 -0300</td>\n",
       "      <td>2019-01-09 21:37:00-03:00</td>\n",
       "      <td>2019-01-09 21:37:00 -0300</td>\n",
       "      <td>62</td>\n",
       "      <td>2019</td>\n",
       "      <td>2019-01</td>\n",
       "      <td>2019-01-09</td>\n",
       "    </tr>\n",
       "    <tr>\n",
       "      <th>2</th>\n",
       "      <td>Health</td>\n",
       "      <td>11.2.1</td>\n",
       "      <td>NaN</td>\n",
       "      <td>BodyMass</td>\n",
       "      <td>kg</td>\n",
       "      <td>2018-03-08 00:30:47 -0300</td>\n",
       "      <td>2018-03-08 00:30:47-03:00</td>\n",
       "      <td>2018-03-08 00:30:47 -0300</td>\n",
       "      <td>63</td>\n",
       "      <td>2018</td>\n",
       "      <td>2018-03</td>\n",
       "      <td>2018-03-07</td>\n",
       "    </tr>\n",
       "    <tr>\n",
       "      <th>3</th>\n",
       "      <td>Health</td>\n",
       "      <td>13.3.1</td>\n",
       "      <td>NaN</td>\n",
       "      <td>BodyMass</td>\n",
       "      <td>kg</td>\n",
       "      <td>2020-03-09 21:35:38 -0300</td>\n",
       "      <td>2020-03-09 21:35:00-03:00</td>\n",
       "      <td>2020-03-09 21:35:00 -0300</td>\n",
       "      <td>60</td>\n",
       "      <td>2020</td>\n",
       "      <td>2020-03</td>\n",
       "      <td>2020-03-09</td>\n",
       "    </tr>\n",
       "  </tbody>\n",
       "</table>\n",
       "</div>"
      ],
      "text/plain": [
       "  sourceName sourceVersion  device      type unit               creationDate  \\\n",
       "0     Health        10.2.1     NaN  BodyMass   kg  2017-04-27 21:06:42 -0300   \n",
       "1     Health        12.1.2     NaN  BodyMass   kg  2019-01-09 21:37:52 -0300   \n",
       "2     Health        11.2.1     NaN  BodyMass   kg  2018-03-08 00:30:47 -0300   \n",
       "3     Health        13.3.1     NaN  BodyMass   kg  2020-03-09 21:35:38 -0300   \n",
       "\n",
       "                  startDate                    endDate  value  year    month  \\\n",
       "0 2017-04-27 21:06:42-03:00  2017-04-27 21:06:42 -0300     63  2017  2017-04   \n",
       "1 2019-01-09 21:37:00-03:00  2019-01-09 21:37:00 -0300     62  2019  2019-01   \n",
       "2 2018-03-08 00:30:47-03:00  2018-03-08 00:30:47 -0300     63  2018  2018-03   \n",
       "3 2020-03-09 21:35:00-03:00  2020-03-09 21:35:00 -0300     60  2020  2020-03   \n",
       "\n",
       "         date  \n",
       "0  2017-04-27  \n",
       "1  2019-01-09  \n",
       "2  2018-03-07  \n",
       "3  2020-03-09  "
      ]
     },
     "execution_count": 45,
     "metadata": {},
     "output_type": "execute_result"
    }
   ],
   "source": [
    "weight.tail()"
   ]
  },
  {
   "cell_type": "code",
   "execution_count": 46,
   "metadata": {},
   "outputs": [],
   "source": [
    "month_weight = weight.groupby(['month'])['value'].mean().reset_index(name='Weight')"
   ]
  },
  {
   "cell_type": "code",
   "execution_count": 47,
   "metadata": {},
   "outputs": [],
   "source": [
    "# month_weight"
   ]
  },
  {
   "cell_type": "code",
   "execution_count": 74,
   "metadata": {},
   "outputs": [
    {
     "data": {
      "image/png": "[encoded data removed]",
      "text/plain": [
       "<Figure size 864x360 with 1 Axes>"
      ]
     },
     "metadata": {
      "needs_background": "light"
     },
     "output_type": "display_data"
    }
   ],
   "source": [
    "# a bit of a hackish solution, could use improvement\n",
    "dataset = month_weight\n",
    "chart_title = 'Monthly Weight'\n",
    "\n",
    "n_groups = len(dataset)\n",
    "index = np.arange(n_groups)\n",
    "\n",
    "ax = dataset.plot(kind='line', figsize=[12, 5], linewidth=4, alpha=1, marker='o', color='#6684c1', \n",
    "                      markeredgecolor='#6684c1', markerfacecolor='w', markersize=8, markeredgewidth=2)\n",
    "\n",
    "# ax.set_xlim((year_counts.index[0], year_counts.index[-1]))\n",
    "\n",
    "ax.yaxis.grid(True)\n",
    "ax.xaxis.grid(True)\n",
    "# ax.set_ylim(0, 1000)\n",
    "ax.set_xticks(index)\n",
    "ax.set_ylabel('Weight (kg)')\n",
    "plt.xticks(index, dataset.month, rotation=90)\n",
    "ax.set_title(chart_title)\n",
    "\n",
    "plt.show()"
   ]
  },
  {
   "cell_type": "markdown",
   "metadata": {},
   "source": [
    "## Heart Rate"
   ]
  },
  {
   "cell_type": "code",
   "execution_count": 52,
   "metadata": {},
   "outputs": [
    {
     "data": {
      "text/plain": [
       "1248"
      ]
     },
     "execution_count": 52,
     "metadata": {},
     "output_type": "execute_result"
    }
   ],
   "source": [
    "resting = pd.read_csv(\"data/RestingHeartRate.csv\")\n",
    "len(resting)"
   ]
  },
  {
   "cell_type": "code",
   "execution_count": 53,
   "metadata": {},
   "outputs": [
    {
     "data": {
      "text/plain": [
       "Index(['sourceName', 'sourceVersion', 'device', 'type', 'unit', 'creationDate',\n",
       "       'startDate', 'endDate', 'value'],\n",
       "      dtype='object')"
      ]
     },
     "execution_count": 53,
     "metadata": {},
     "output_type": "execute_result"
    }
   ],
   "source": [
    "resting.columns"
   ]
  },
  {
   "cell_type": "code",
   "execution_count": 54,
   "metadata": {},
   "outputs": [
    {
     "data": {
      "text/plain": [
       "array(['Lucas’s Apple\\xa0Watch'], dtype=object)"
      ]
     },
     "execution_count": 54,
     "metadata": {},
     "output_type": "execute_result"
    }
   ],
   "source": [
    "resting.sourceName.unique()"
   ]
  },
  {
   "cell_type": "code",
   "execution_count": 55,
   "metadata": {},
   "outputs": [],
   "source": [
    "# parse out date and time elements as Shanghai time\n",
    "resting['startDate'] = pd.to_datetime(resting['startDate'])\n",
    "resting['year'] = resting['startDate'].map(get_year)\n",
    "resting['month'] = resting['startDate'].map(get_month)\n",
    "resting['date'] = resting['startDate'].map(get_date)"
   ]
  },
  {
   "cell_type": "code",
   "execution_count": 56,
   "metadata": {},
   "outputs": [],
   "source": [
    "# resting.tail(10)"
   ]
  },
  {
   "cell_type": "code",
   "execution_count": 57,
   "metadata": {},
   "outputs": [
    {
     "data": {
      "text/plain": [
       "<AxesSubplot:title={'center':'Resting HR'}, xlabel='date'>"
      ]
     },
     "execution_count": 57,
     "metadata": {},
     "output_type": "execute_result"
    },
    {
     "data": {
      "image/png": "[encoded data removed]",
      "text/plain": [
       "<Figure size 720x432 with 1 Axes>"
      ]
     },
     "metadata": {
      "needs_background": "light"
     },
     "output_type": "display_data"
    }
   ],
   "source": [
    "resting[resting.month == '2019-08'].plot(x='date', y='value', title= 'Resting HR', figsize=[10, 6])"
   ]
  },
  {
   "cell_type": "code",
   "execution_count": 58,
   "metadata": {},
   "outputs": [
    {
     "data": {
      "text/plain": [
       "302386"
      ]
     },
     "execution_count": 58,
     "metadata": {},
     "output_type": "execute_result"
    }
   ],
   "source": [
    "hr = pd.read_csv(\"data/HeartRate.csv\")\n",
    "len(hr)"
   ]
  },
  {
   "cell_type": "code",
   "execution_count": 59,
   "metadata": {},
   "outputs": [],
   "source": [
    "# hr.tail(10)"
   ]
  },
  {
   "cell_type": "code",
   "execution_count": 60,
   "metadata": {},
   "outputs": [],
   "source": [
    "# parse out date and time elements as Shanghai time\n",
    "hr['startDate'] = pd.to_datetime(hr['startDate'])\n",
    "hr['year'] = hr['startDate'].map(get_year)\n",
    "hr['month'] = hr['startDate'].map(get_month)\n",
    "hr['hour'] = hr['startDate'].map(get_hour)\n",
    "hr['date'] = hr['startDate'].map(get_date)"
   ]
  },
  {
   "cell_type": "code",
   "execution_count": 63,
   "metadata": {},
   "outputs": [
    {
     "data": {
      "text/plain": [
       "<AxesSubplot:title={'center':'HR'}, xlabel='startDate'>"
      ]
     },
     "execution_count": 63,
     "metadata": {},
     "output_type": "execute_result"
    },
    {
     "data": {
      "image/png": "[encoded data removed]",
      "text/plain": [
       "<Figure size 720x432 with 1 Axes>"
      ]
     },
     "metadata": {
      "needs_background": "light"
     },
     "output_type": "display_data"
    }
   ],
   "source": [
    "# plot a single day\n",
    "test_date = '2020-08-28'\n",
    "# len(hr[hr.date == test_date])\n",
    "# TODO: Fix Axis for Hour of Day or Something Similar\n",
    "hr[hr.date == test_date].plot(x='startDate', y='value', title= 'HR', figsize=[10, 6])"
   ]
  },
  {
   "cell_type": "code",
   "execution_count": null,
   "metadata": {},
   "outputs": [],
   "source": []
  },
  {
   "cell_type": "markdown",
   "metadata": {},
   "source": [
    "------"
   ]
  },
  {
   "cell_type": "markdown",
   "metadata": {},
   "source": [
    "# Sleep"
   ]
  },
  {
   "cell_type": "code",
   "execution_count": 75,
   "metadata": {},
   "outputs": [],
   "source": [
    "sleep_raw = pd.read_csv(\"data/SleepAnalysis.csv\")"
   ]
  },
  {
   "cell_type": "code",
   "execution_count": 76,
   "metadata": {},
   "outputs": [
    {
     "data": {
      "text/html": [
       "<div>\n",
       "<style scoped>\n",
       "    .dataframe tbody tr th:only-of-type {\n",
       "        vertical-align: middle;\n",
       "    }\n",
       "\n",
       "    .dataframe tbody tr th {\n",
       "        vertical-align: top;\n",
       "    }\n",
       "\n",
       "    .dataframe thead th {\n",
       "        text-align: right;\n",
       "    }\n",
       "</style>\n",
       "<table border=\"1\" class=\"dataframe\">\n",
       "  <thead>\n",
       "    <tr style=\"text-align: right;\">\n",
       "      <th></th>\n",
       "      <th>sourceName</th>\n",
       "      <th>sourceVersion</th>\n",
       "      <th>device</th>\n",
       "      <th>type</th>\n",
       "      <th>unit</th>\n",
       "      <th>creationDate</th>\n",
       "      <th>startDate</th>\n",
       "      <th>endDate</th>\n",
       "      <th>value</th>\n",
       "    </tr>\n",
       "  </thead>\n",
       "  <tbody>\n",
       "    <tr>\n",
       "      <th>3253</th>\n",
       "      <td>Lucas’s Apple Watch</td>\n",
       "      <td>8.5.1</td>\n",
       "      <td>NaN</td>\n",
       "      <td>SleepAnalysis</td>\n",
       "      <td>NaN</td>\n",
       "      <td>2022-05-06 09:01:30 -0300</td>\n",
       "      <td>2022-05-06 00:47:57 -0300</td>\n",
       "      <td>2022-05-06 00:49:27 -0300</td>\n",
       "      <td>HKCategoryValueSleepAnalysisAsleep</td>\n",
       "    </tr>\n",
       "    <tr>\n",
       "      <th>3254</th>\n",
       "      <td>Lucas’s Apple Watch</td>\n",
       "      <td>8.5.1</td>\n",
       "      <td>NaN</td>\n",
       "      <td>SleepAnalysis</td>\n",
       "      <td>NaN</td>\n",
       "      <td>2022-05-06 09:01:30 -0300</td>\n",
       "      <td>2022-05-06 00:50:27 -0300</td>\n",
       "      <td>2022-05-06 07:22:57 -0300</td>\n",
       "      <td>HKCategoryValueSleepAnalysisAsleep</td>\n",
       "    </tr>\n",
       "    <tr>\n",
       "      <th>3255</th>\n",
       "      <td>Lucas’s Apple Watch</td>\n",
       "      <td>8.5.1</td>\n",
       "      <td>NaN</td>\n",
       "      <td>SleepAnalysis</td>\n",
       "      <td>NaN</td>\n",
       "      <td>2022-05-06 09:01:30 -0300</td>\n",
       "      <td>2022-05-06 07:31:27 -0300</td>\n",
       "      <td>2022-05-06 08:24:27 -0300</td>\n",
       "      <td>HKCategoryValueSleepAnalysisAsleep</td>\n",
       "    </tr>\n",
       "    <tr>\n",
       "      <th>3256</th>\n",
       "      <td>Lucas’s Apple Watch</td>\n",
       "      <td>8.5.1</td>\n",
       "      <td>NaN</td>\n",
       "      <td>SleepAnalysis</td>\n",
       "      <td>NaN</td>\n",
       "      <td>2022-05-06 09:01:30 -0300</td>\n",
       "      <td>2022-05-06 08:30:27 -0300</td>\n",
       "      <td>2022-05-06 08:44:27 -0300</td>\n",
       "      <td>HKCategoryValueSleepAnalysisAsleep</td>\n",
       "    </tr>\n",
       "    <tr>\n",
       "      <th>3257</th>\n",
       "      <td>Lucas’s iPhone</td>\n",
       "      <td>15.4.1</td>\n",
       "      <td>NaN</td>\n",
       "      <td>SleepAnalysis</td>\n",
       "      <td>NaN</td>\n",
       "      <td>2022-05-06 09:01:28 -0300</td>\n",
       "      <td>2022-05-06 00:29:34 -0300</td>\n",
       "      <td>2022-05-06 08:52:24 -0300</td>\n",
       "      <td>HKCategoryValueSleepAnalysisInBed</td>\n",
       "    </tr>\n",
       "  </tbody>\n",
       "</table>\n",
       "</div>"
      ],
      "text/plain": [
       "               sourceName sourceVersion device           type  unit  \\\n",
       "3253  Lucas’s Apple Watch         8.5.1    NaN  SleepAnalysis   NaN   \n",
       "3254  Lucas’s Apple Watch         8.5.1    NaN  SleepAnalysis   NaN   \n",
       "3255  Lucas’s Apple Watch         8.5.1    NaN  SleepAnalysis   NaN   \n",
       "3256  Lucas’s Apple Watch         8.5.1    NaN  SleepAnalysis   NaN   \n",
       "3257       Lucas’s iPhone        15.4.1    NaN  SleepAnalysis   NaN   \n",
       "\n",
       "                   creationDate                  startDate  \\\n",
       "3253  2022-05-06 09:01:30 -0300  2022-05-06 00:47:57 -0300   \n",
       "3254  2022-05-06 09:01:30 -0300  2022-05-06 00:50:27 -0300   \n",
       "3255  2022-05-06 09:01:30 -0300  2022-05-06 07:31:27 -0300   \n",
       "3256  2022-05-06 09:01:30 -0300  2022-05-06 08:30:27 -0300   \n",
       "3257  2022-05-06 09:01:28 -0300  2022-05-06 00:29:34 -0300   \n",
       "\n",
       "                        endDate                               value  \n",
       "3253  2022-05-06 00:49:27 -0300  HKCategoryValueSleepAnalysisAsleep  \n",
       "3254  2022-05-06 07:22:57 -0300  HKCategoryValueSleepAnalysisAsleep  \n",
       "3255  2022-05-06 08:24:27 -0300  HKCategoryValueSleepAnalysisAsleep  \n",
       "3256  2022-05-06 08:44:27 -0300  HKCategoryValueSleepAnalysisAsleep  \n",
       "3257  2022-05-06 08:52:24 -0300   HKCategoryValueSleepAnalysisInBed  "
      ]
     },
     "execution_count": 76,
     "metadata": {},
     "output_type": "execute_result"
    }
   ],
   "source": [
    "sleep_raw.tail()"
   ]
  },
  {
   "cell_type": "code",
   "execution_count": 77,
   "metadata": {},
   "outputs": [],
   "source": [
    "# parse out date and time elements as Buenos Aires time\n",
    "steps['startDate'] = pd.to_datetime(steps['startDate'])\n",
    "steps['year'] = steps['startDate'].map(get_year)\n",
    "steps['month'] = steps['startDate'].map(get_month)\n",
    "steps['date'] = steps['startDate'].map(get_date)\n",
    "steps['day'] = steps['startDate'].map(get_day)\n",
    "steps['hour'] = steps['startDate'].map(get_hour)\n",
    "steps['dow'] = steps['startDate'].map(get_day_of_week)"
   ]
  },
  {
   "cell_type": "code",
   "execution_count": null,
   "metadata": {},
   "outputs": [],
   "source": []
  },
  {
   "cell_type": "code",
   "execution_count": null,
   "metadata": {},
   "outputs": [],
   "source": []
  }
 ],
 "metadata": {
  "kernelspec": {
   "display_name": "Python 3 (ipykernel)",
   "language": "python",
   "name": "python3"
  },
  "language_info": {
   "codemirror_mode": {
    "name": "ipython",
    "version": 3
   },
   "file_extension": ".py",
   "mimetype": "text/x-python",
   "name": "python",
   "nbconvert_exporter": "python",
   "pygments_lexer": "ipython3",
   "version": "3.9.7"
  }
 },
 "nbformat": 4,
 "nbformat_minor": 2
}
