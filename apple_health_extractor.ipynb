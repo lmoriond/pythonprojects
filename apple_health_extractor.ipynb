{
 "cells": [
  {
   "cell_type": "markdown",
   "metadata": {},
   "source": [
    "# Apple Health Extractor"
   ]
  },
  {
   "cell_type": "markdown",
   "metadata": {},
   "source": [
    "This code will parse your Apple Health export data, create multiple CSV and do some simple data checks and data analysis. \n",
    "\n",
    "Enjoy! "
   ]
  },
  {
   "cell_type": "markdown",
   "metadata": {},
   "source": [
    "--------"
   ]
  },
  {
   "cell_type": "markdown",
   "metadata": {},
   "source": [
    "## Extract Data and Export to CSVs from Apple Health's Export.xml"
   ]
  },
  {
   "cell_type": "markdown",
   "metadata": {},
   "source": [
    "* Command Line Tool to Process apple health's export.xml file \n",
    "* Create multiple CSV files for each data type. \n",
    "* Original Source: https://github.com/tdda/applehealthdata\n",
    "* Based on the size of your Apple Health Data, this script may take several minutes to complete.\n",
    "\n",
    "**NOTE: Currently there are a few minror errors based on additional data from Apple Health that require some updates.** "
   ]
  },
  {
   "cell_type": "markdown",
   "metadata": {},
   "source": [
    "## Setup and Usage NOTE\n",
    "\n",
    "* Export your data from Apple Health App on your phone. \n",
    "* Unzip export.zip into this directory and rename to data. \n",
    "* Inside your directory there should be a directory and file here: /data/export.xml\n",
    "* Run inside project or in the command line."
   ]
  },
  {
   "cell_type": "code",
   "execution_count": 2,
   "metadata": {},
   "outputs": [
    {
     "name": "stdout",
     "output_type": "stream",
     "text": [
      "Reading data from data/export.xml . . . done\n",
      "Unexpected node of type ExportDate.\n",
      "\n",
      "Tags:\n",
      "ActivitySummary: 1251\n",
      "ExportDate: 1\n",
      "Me: 1\n",
      "Record: 1755949\n",
      "Workout: 272\n",
      "\n",
      "Fields:\n",
      "HKCharacteristicTypeIdentifierBiologicalSex: 1\n",
      "HKCharacteristicTypeIdentifierBloodType: 1\n",
      "HKCharacteristicTypeIdentifierCardioFitnessMedicationsUse: 1\n",
      "HKCharacteristicTypeIdentifierDateOfBirth: 1\n",
      "HKCharacteristicTypeIdentifierFitzpatrickSkinType: 1\n",
      "activeEnergyBurned: 1251\n",
      "activeEnergyBurnedGoal: 1251\n",
      "activeEnergyBurnedUnit: 1251\n",
      "appleExerciseTime: 1251\n",
      "appleExerciseTimeGoal: 1251\n",
      "appleMoveTime: 1251\n",
      "appleMoveTimeGoal: 1251\n",
      "appleStandHours: 1251\n",
      "appleStandHoursGoal: 1251\n",
      "creationDate: 1756221\n",
      "dateComponents: 1251\n",
      "device: 1728124\n",
      "duration: 272\n",
      "durationUnit: 272\n",
      "endDate: 1756221\n",
      "sourceName: 1756221\n",
      "sourceVersion: 1744169\n",
      "startDate: 1756221\n",
      "totalDistance: 272\n",
      "totalDistanceUnit: 272\n",
      "totalEnergyBurned: 272\n",
      "totalEnergyBurnedUnit: 272\n",
      "type: 1755949\n",
      "unit: 1728227\n",
      "value: 1755615\n",
      "workoutActivityType: 272\n",
      "\n",
      "Record types:\n",
      "ActiveEnergyBurned: 896826\n",
      "AppleExerciseTime: 22142\n",
      "AppleStandHour: 24116\n",
      "AppleStandTime: 22879\n",
      "AppleWalkingSteadiness: 32\n",
      "AudioExposureEvent: 13\n",
      "BasalEnergyBurned: 164091\n",
      "BodyMass: 4\n",
      "DistanceCycling: 7640\n",
      "DistanceWalkingRunning: 112866\n",
      "EnvironmentalAudioExposure: 35702\n",
      "FlightsClimbed: 9833\n",
      "HKDataTypeSleepDurationGoal: 2\n",
      "HandwashingEvent: 179\n",
      "HeadphoneAudioExposure: 23483\n",
      "HeartRate: 302386\n",
      "HeartRateVariabilitySDNN: 7988\n",
      "Height: 2\n",
      "LowHeartRateEvent: 150\n",
      "MindfulSession: 6\n",
      "RespiratoryRate: 7516\n",
      "RestingHeartRate: 1248\n",
      "SixMinuteWalkTestDistance: 42\n",
      "SleepAnalysis: 3258\n",
      "StepCount: 102546\n",
      "VO2Max: 119\n",
      "WalkingAsymmetryPercentage: 1128\n",
      "WalkingDoubleSupportPercentage: 2395\n",
      "WalkingHeartRateAverage: 945\n",
      "WalkingSpeed: 3206\n",
      "WalkingStepLength: 3206\n",
      "\n",
      "Opening C:\\Users\\lucas\\Downloads\\Data_Projects\\apple_health\\qs_ledger-master\\apple_health\\data\\Height.csv for writing\n",
      "Opening C:\\Users\\lucas\\Downloads\\Data_Projects\\apple_health\\qs_ledger-master\\apple_health\\data\\BodyMass.csv for writing\n",
      "Opening C:\\Users\\lucas\\Downloads\\Data_Projects\\apple_health\\qs_ledger-master\\apple_health\\data\\HeartRate.csv for writing\n",
      "Opening C:\\Users\\lucas\\Downloads\\Data_Projects\\apple_health\\qs_ledger-master\\apple_health\\data\\RespiratoryRate.csv for writing\n",
      "Opening C:\\Users\\lucas\\Downloads\\Data_Projects\\apple_health\\qs_ledger-master\\apple_health\\data\\StepCount.csv for writing\n",
      "Opening C:\\Users\\lucas\\Downloads\\Data_Projects\\apple_health\\qs_ledger-master\\apple_health\\data\\DistanceWalkingRunning.csv for writing\n",
      "Opening C:\\Users\\lucas\\Downloads\\Data_Projects\\apple_health\\qs_ledger-master\\apple_health\\data\\BasalEnergyBurned.csv for writing\n",
      "Opening C:\\Users\\lucas\\Downloads\\Data_Projects\\apple_health\\qs_ledger-master\\apple_health\\data\\ActiveEnergyBurned.csv for writing\n",
      "Opening C:\\Users\\lucas\\Downloads\\Data_Projects\\apple_health\\qs_ledger-master\\apple_health\\data\\FlightsClimbed.csv for writing\n",
      "Opening C:\\Users\\lucas\\Downloads\\Data_Projects\\apple_health\\qs_ledger-master\\apple_health\\data\\AppleExerciseTime.csv for writing\n",
      "Opening C:\\Users\\lucas\\Downloads\\Data_Projects\\apple_health\\qs_ledger-master\\apple_health\\data\\DistanceCycling.csv for writing\n",
      "Opening C:\\Users\\lucas\\Downloads\\Data_Projects\\apple_health\\qs_ledger-master\\apple_health\\data\\RestingHeartRate.csv for writing\n",
      "Opening C:\\Users\\lucas\\Downloads\\Data_Projects\\apple_health\\qs_ledger-master\\apple_health\\data\\VO2Max.csv for writing\n",
      "Opening C:\\Users\\lucas\\Downloads\\Data_Projects\\apple_health\\qs_ledger-master\\apple_health\\data\\WalkingHeartRateAverage.csv for writing\n",
      "Opening C:\\Users\\lucas\\Downloads\\Data_Projects\\apple_health\\qs_ledger-master\\apple_health\\data\\EnvironmentalAudioExposure.csv for writing\n",
      "Opening C:\\Users\\lucas\\Downloads\\Data_Projects\\apple_health\\qs_ledger-master\\apple_health\\data\\HeadphoneAudioExposure.csv for writing\n",
      "Opening C:\\Users\\lucas\\Downloads\\Data_Projects\\apple_health\\qs_ledger-master\\apple_health\\data\\WalkingDoubleSupportPercentage.csv for writing\n",
      "Opening C:\\Users\\lucas\\Downloads\\Data_Projects\\apple_health\\qs_ledger-master\\apple_health\\data\\SixMinuteWalkTestDistance.csv for writing\n",
      "Opening C:\\Users\\lucas\\Downloads\\Data_Projects\\apple_health\\qs_ledger-master\\apple_health\\data\\AppleStandTime.csv for writing\n",
      "Opening C:\\Users\\lucas\\Downloads\\Data_Projects\\apple_health\\qs_ledger-master\\apple_health\\data\\WalkingSpeed.csv for writing\n",
      "Opening C:\\Users\\lucas\\Downloads\\Data_Projects\\apple_health\\qs_ledger-master\\apple_health\\data\\WalkingStepLength.csv for writing\n",
      "Opening C:\\Users\\lucas\\Downloads\\Data_Projects\\apple_health\\qs_ledger-master\\apple_health\\data\\WalkingAsymmetryPercentage.csv for writing\n",
      "Opening C:\\Users\\lucas\\Downloads\\Data_Projects\\apple_health\\qs_ledger-master\\apple_health\\data\\HKDataTypeSleepDurationGoal.csv for writing\n",
      "Opening C:\\Users\\lucas\\Downloads\\Data_Projects\\apple_health\\qs_ledger-master\\apple_health\\data\\AppleWalkingSteadiness.csv for writing\n",
      "Opening C:\\Users\\lucas\\Downloads\\Data_Projects\\apple_health\\qs_ledger-master\\apple_health\\data\\SleepAnalysis.csv for writing\n",
      "Opening C:\\Users\\lucas\\Downloads\\Data_Projects\\apple_health\\qs_ledger-master\\apple_health\\data\\AppleStandHour.csv for writing\n",
      "Opening C:\\Users\\lucas\\Downloads\\Data_Projects\\apple_health\\qs_ledger-master\\apple_health\\data\\MindfulSession.csv for writing\n",
      "Opening C:\\Users\\lucas\\Downloads\\Data_Projects\\apple_health\\qs_ledger-master\\apple_health\\data\\LowHeartRateEvent.csv for writing\n",
      "Opening C:\\Users\\lucas\\Downloads\\Data_Projects\\apple_health\\qs_ledger-master\\apple_health\\data\\AudioExposureEvent.csv for writing\n",
      "Opening C:\\Users\\lucas\\Downloads\\Data_Projects\\apple_health\\qs_ledger-master\\apple_health\\data\\HandwashingEvent.csv for writing\n",
      "Opening C:\\Users\\lucas\\Downloads\\Data_Projects\\apple_health\\qs_ledger-master\\apple_health\\data\\HeartRateVariabilitySDNN.csv for writing\n",
      "Opening C:\\Users\\lucas\\Downloads\\Data_Projects\\apple_health\\qs_ledger-master\\apple_health\\data\\Workout.csv for writing\n",
      "Opening C:\\Users\\lucas\\Downloads\\Data_Projects\\apple_health\\qs_ledger-master\\apple_health\\data\\ActivitySummary.csv for writing\n",
      "Written Height data.\n",
      "Written BodyMass data.\n",
      "Written HeartRate data.\n",
      "Written RespiratoryRate data.\n",
      "Written StepCount data.\n",
      "Written DistanceWalkingRunning data.\n",
      "Written BasalEnergyBurned data.\n",
      "Written ActiveEnergyBurned data.\n",
      "Written FlightsClimbed data.\n",
      "Written AppleExerciseTime data.\n",
      "Written DistanceCycling data.\n",
      "Written RestingHeartRate data.\n",
      "Written VO2Max data.\n",
      "Written WalkingHeartRateAverage data.\n",
      "Written EnvironmentalAudioExposure data.\n",
      "Written HeadphoneAudioExposure data.\n",
      "Written WalkingDoubleSupportPercentage data.\n",
      "Written SixMinuteWalkTestDistance data.\n",
      "Written AppleStandTime data.\n",
      "Written WalkingSpeed data.\n",
      "Written WalkingStepLength data.\n",
      "Written WalkingAsymmetryPercentage data.\n",
      "Written HKDataTypeSleepDurationGoal data.\n",
      "Written AppleWalkingSteadiness data.\n",
      "Written SleepAnalysis data.\n",
      "Written AppleStandHour data.\n",
      "Written MindfulSession data.\n",
      "Written LowHeartRateEvent data.\n",
      "Written AudioExposureEvent data.\n",
      "Written HandwashingEvent data.\n",
      "Written HeartRateVariabilitySDNN data.\n",
      "Written Workout data.\n",
      "Written ActivitySummary data.\n"
     ]
    }
   ],
   "source": [
    "# %run -i 'apple-health-data-parser' 'export.xml' \n",
    "%run -i \"apple-health-data-parser\" \"data/export.xml\" "
   ]
  },
  {
   "cell_type": "markdown",
   "metadata": {},
   "source": [
    "-----"
   ]
  },
  {
   "cell_type": "markdown",
   "metadata": {},
   "source": [
    "# Apple Health Data Check and Simple Data Analysis"
   ]
  },
  {
   "cell_type": "code",
   "execution_count": 3,
   "metadata": {},
   "outputs": [],
   "source": [
    "import numpy as np\n",
    "import pandas as pd\n",
    "import glob"
   ]
  },
  {
   "cell_type": "markdown",
   "metadata": {},
   "source": [
    "----"
   ]
  },
  {
   "cell_type": "markdown",
   "metadata": {},
   "source": [
    "# Weight"
   ]
  },
  {
   "cell_type": "code",
   "execution_count": 41,
   "metadata": {},
   "outputs": [],
   "source": [
    "weight = pd.read_csv(\"data/BodyMass.csv\")"
   ]
  },
  {
   "cell_type": "code",
   "execution_count": 42,
   "metadata": {},
   "outputs": [
    {
     "data": {
      "text/html": [
       "<div>\n",
       "<style scoped>\n",
       "    .dataframe tbody tr th:only-of-type {\n",
       "        vertical-align: middle;\n",
       "    }\n",
       "\n",
       "    .dataframe tbody tr th {\n",
       "        vertical-align: top;\n",
       "    }\n",
       "\n",
       "    .dataframe thead th {\n",
       "        text-align: right;\n",
       "    }\n",
       "</style>\n",
       "<table border=\"1\" class=\"dataframe\">\n",
       "  <thead>\n",
       "    <tr style=\"text-align: right;\">\n",
       "      <th></th>\n",
       "      <th>sourceName</th>\n",
       "      <th>sourceVersion</th>\n",
       "      <th>device</th>\n",
       "      <th>type</th>\n",
       "      <th>unit</th>\n",
       "      <th>creationDate</th>\n",
       "      <th>startDate</th>\n",
       "      <th>endDate</th>\n",
       "      <th>value</th>\n",
       "    </tr>\n",
       "  </thead>\n",
       "  <tbody>\n",
       "    <tr>\n",
       "      <th>0</th>\n",
       "      <td>Health</td>\n",
       "      <td>10.2.1</td>\n",
       "      <td>NaN</td>\n",
       "      <td>BodyMass</td>\n",
       "      <td>kg</td>\n",
       "      <td>2017-04-27 21:06:42 -0300</td>\n",
       "      <td>2017-04-27 21:06:42 -0300</td>\n",
       "      <td>2017-04-27 21:06:42 -0300</td>\n",
       "      <td>63</td>\n",
       "    </tr>\n",
       "    <tr>\n",
       "      <th>1</th>\n",
       "      <td>Health</td>\n",
       "      <td>12.1.2</td>\n",
       "      <td>NaN</td>\n",
       "      <td>BodyMass</td>\n",
       "      <td>kg</td>\n",
       "      <td>2019-01-09 21:37:52 -0300</td>\n",
       "      <td>2019-01-09 21:37:00 -0300</td>\n",
       "      <td>2019-01-09 21:37:00 -0300</td>\n",
       "      <td>62</td>\n",
       "    </tr>\n",
       "    <tr>\n",
       "      <th>2</th>\n",
       "      <td>Health</td>\n",
       "      <td>11.2.1</td>\n",
       "      <td>NaN</td>\n",
       "      <td>BodyMass</td>\n",
       "      <td>kg</td>\n",
       "      <td>2018-03-08 00:30:47 -0300</td>\n",
       "      <td>2018-03-08 00:30:47 -0300</td>\n",
       "      <td>2018-03-08 00:30:47 -0300</td>\n",
       "      <td>63</td>\n",
       "    </tr>\n",
       "    <tr>\n",
       "      <th>3</th>\n",
       "      <td>Health</td>\n",
       "      <td>13.3.1</td>\n",
       "      <td>NaN</td>\n",
       "      <td>BodyMass</td>\n",
       "      <td>kg</td>\n",
       "      <td>2020-03-09 21:35:38 -0300</td>\n",
       "      <td>2020-03-09 21:35:00 -0300</td>\n",
       "      <td>2020-03-09 21:35:00 -0300</td>\n",
       "      <td>60</td>\n",
       "    </tr>\n",
       "  </tbody>\n",
       "</table>\n",
       "</div>"
      ],
      "text/plain": [
       "  sourceName sourceVersion  device      type unit               creationDate  \\\n",
       "0     Health        10.2.1     NaN  BodyMass   kg  2017-04-27 21:06:42 -0300   \n",
       "1     Health        12.1.2     NaN  BodyMass   kg  2019-01-09 21:37:52 -0300   \n",
       "2     Health        11.2.1     NaN  BodyMass   kg  2018-03-08 00:30:47 -0300   \n",
       "3     Health        13.3.1     NaN  BodyMass   kg  2020-03-09 21:35:38 -0300   \n",
       "\n",
       "                   startDate                    endDate  value  \n",
       "0  2017-04-27 21:06:42 -0300  2017-04-27 21:06:42 -0300     63  \n",
       "1  2019-01-09 21:37:00 -0300  2019-01-09 21:37:00 -0300     62  \n",
       "2  2018-03-08 00:30:47 -0300  2018-03-08 00:30:47 -0300     63  \n",
       "3  2020-03-09 21:35:00 -0300  2020-03-09 21:35:00 -0300     60  "
      ]
     },
     "execution_count": 42,
     "metadata": {},
     "output_type": "execute_result"
    }
   ],
   "source": [
    "weight.tail()"
   ]
  },
  {
   "cell_type": "code",
   "execution_count": 43,
   "metadata": {},
   "outputs": [
    {
     "data": {
      "text/html": [
       "<div>\n",
       "<style scoped>\n",
       "    .dataframe tbody tr th:only-of-type {\n",
       "        vertical-align: middle;\n",
       "    }\n",
       "\n",
       "    .dataframe tbody tr th {\n",
       "        vertical-align: top;\n",
       "    }\n",
       "\n",
       "    .dataframe thead th {\n",
       "        text-align: right;\n",
       "    }\n",
       "</style>\n",
       "<table border=\"1\" class=\"dataframe\">\n",
       "  <thead>\n",
       "    <tr style=\"text-align: right;\">\n",
       "      <th></th>\n",
       "      <th>device</th>\n",
       "      <th>value</th>\n",
       "    </tr>\n",
       "  </thead>\n",
       "  <tbody>\n",
       "    <tr>\n",
       "      <th>count</th>\n",
       "      <td>0.0</td>\n",
       "      <td>4.000000</td>\n",
       "    </tr>\n",
       "    <tr>\n",
       "      <th>mean</th>\n",
       "      <td>NaN</td>\n",
       "      <td>62.000000</td>\n",
       "    </tr>\n",
       "    <tr>\n",
       "      <th>std</th>\n",
       "      <td>NaN</td>\n",
       "      <td>1.414214</td>\n",
       "    </tr>\n",
       "    <tr>\n",
       "      <th>min</th>\n",
       "      <td>NaN</td>\n",
       "      <td>60.000000</td>\n",
       "    </tr>\n",
       "    <tr>\n",
       "      <th>25%</th>\n",
       "      <td>NaN</td>\n",
       "      <td>61.500000</td>\n",
       "    </tr>\n",
       "    <tr>\n",
       "      <th>50%</th>\n",
       "      <td>NaN</td>\n",
       "      <td>62.500000</td>\n",
       "    </tr>\n",
       "    <tr>\n",
       "      <th>75%</th>\n",
       "      <td>NaN</td>\n",
       "      <td>63.000000</td>\n",
       "    </tr>\n",
       "    <tr>\n",
       "      <th>max</th>\n",
       "      <td>NaN</td>\n",
       "      <td>63.000000</td>\n",
       "    </tr>\n",
       "  </tbody>\n",
       "</table>\n",
       "</div>"
      ],
      "text/plain": [
       "       device      value\n",
       "count     0.0   4.000000\n",
       "mean      NaN  62.000000\n",
       "std       NaN   1.414214\n",
       "min       NaN  60.000000\n",
       "25%       NaN  61.500000\n",
       "50%       NaN  62.500000\n",
       "75%       NaN  63.000000\n",
       "max       NaN  63.000000"
      ]
     },
     "execution_count": 43,
     "metadata": {},
     "output_type": "execute_result"
    }
   ],
   "source": [
    "weight.describe()"
   ]
  },
  {
   "cell_type": "markdown",
   "metadata": {},
   "source": [
    "----"
   ]
  },
  {
   "cell_type": "markdown",
   "metadata": {},
   "source": [
    "## Steps"
   ]
  },
  {
   "cell_type": "code",
   "execution_count": 7,
   "metadata": {},
   "outputs": [],
   "source": [
    "steps = pd.read_csv(\"data/StepCount.csv\")"
   ]
  },
  {
   "cell_type": "code",
   "execution_count": 8,
   "metadata": {},
   "outputs": [
    {
     "data": {
      "text/plain": [
       "102546"
      ]
     },
     "execution_count": 8,
     "metadata": {},
     "output_type": "execute_result"
    }
   ],
   "source": [
    "len(steps)"
   ]
  },
  {
   "cell_type": "code",
   "execution_count": 9,
   "metadata": {},
   "outputs": [
    {
     "data": {
      "text/plain": [
       "Index(['sourceName', 'sourceVersion', 'device', 'type', 'unit', 'creationDate',\n",
       "       'startDate', 'endDate', 'value'],\n",
       "      dtype='object')"
      ]
     },
     "execution_count": 9,
     "metadata": {},
     "output_type": "execute_result"
    }
   ],
   "source": [
    "steps.columns"
   ]
  },
  {
   "cell_type": "code",
   "execution_count": 10,
   "metadata": {},
   "outputs": [
    {
     "data": {
      "text/html": [
       "<div>\n",
       "<style scoped>\n",
       "    .dataframe tbody tr th:only-of-type {\n",
       "        vertical-align: middle;\n",
       "    }\n",
       "\n",
       "    .dataframe tbody tr th {\n",
       "        vertical-align: top;\n",
       "    }\n",
       "\n",
       "    .dataframe thead th {\n",
       "        text-align: right;\n",
       "    }\n",
       "</style>\n",
       "<table border=\"1\" class=\"dataframe\">\n",
       "  <thead>\n",
       "    <tr style=\"text-align: right;\">\n",
       "      <th></th>\n",
       "      <th>value</th>\n",
       "    </tr>\n",
       "  </thead>\n",
       "  <tbody>\n",
       "    <tr>\n",
       "      <th>count</th>\n",
       "      <td>102546.000000</td>\n",
       "    </tr>\n",
       "    <tr>\n",
       "      <th>mean</th>\n",
       "      <td>78.914029</td>\n",
       "    </tr>\n",
       "    <tr>\n",
       "      <th>std</th>\n",
       "      <td>150.039556</td>\n",
       "    </tr>\n",
       "    <tr>\n",
       "      <th>min</th>\n",
       "      <td>1.000000</td>\n",
       "    </tr>\n",
       "    <tr>\n",
       "      <th>25%</th>\n",
       "      <td>9.000000</td>\n",
       "    </tr>\n",
       "    <tr>\n",
       "      <th>50%</th>\n",
       "      <td>28.000000</td>\n",
       "    </tr>\n",
       "    <tr>\n",
       "      <th>75%</th>\n",
       "      <td>80.000000</td>\n",
       "    </tr>\n",
       "    <tr>\n",
       "      <th>max</th>\n",
       "      <td>1653.000000</td>\n",
       "    </tr>\n",
       "  </tbody>\n",
       "</table>\n",
       "</div>"
      ],
      "text/plain": [
       "               value\n",
       "count  102546.000000\n",
       "mean       78.914029\n",
       "std       150.039556\n",
       "min         1.000000\n",
       "25%         9.000000\n",
       "50%        28.000000\n",
       "75%        80.000000\n",
       "max      1653.000000"
      ]
     },
     "execution_count": 10,
     "metadata": {},
     "output_type": "execute_result"
    }
   ],
   "source": [
    "steps.describe()"
   ]
  },
  {
   "cell_type": "code",
   "execution_count": 11,
   "metadata": {},
   "outputs": [
    {
     "data": {
      "text/html": [
       "<div>\n",
       "<style scoped>\n",
       "    .dataframe tbody tr th:only-of-type {\n",
       "        vertical-align: middle;\n",
       "    }\n",
       "\n",
       "    .dataframe tbody tr th {\n",
       "        vertical-align: top;\n",
       "    }\n",
       "\n",
       "    .dataframe thead th {\n",
       "        text-align: right;\n",
       "    }\n",
       "</style>\n",
       "<table border=\"1\" class=\"dataframe\">\n",
       "  <thead>\n",
       "    <tr style=\"text-align: right;\">\n",
       "      <th></th>\n",
       "      <th>sourceName</th>\n",
       "      <th>sourceVersion</th>\n",
       "      <th>device</th>\n",
       "      <th>type</th>\n",
       "      <th>unit</th>\n",
       "      <th>creationDate</th>\n",
       "      <th>startDate</th>\n",
       "      <th>endDate</th>\n",
       "      <th>value</th>\n",
       "    </tr>\n",
       "  </thead>\n",
       "  <tbody>\n",
       "    <tr>\n",
       "      <th>102541</th>\n",
       "      <td>Lucas’s Apple Watch</td>\n",
       "      <td>8.5.1</td>\n",
       "      <td>&lt;&lt;HKDevice: 0x283e8cb40&gt;, name:Apple Watch, ma...</td>\n",
       "      <td>StepCount</td>\n",
       "      <td>count</td>\n",
       "      <td>2022-05-08 20:33:15 -0300</td>\n",
       "      <td>2022-05-08 20:17:33 -0300</td>\n",
       "      <td>2022-05-08 20:19:31 -0300</td>\n",
       "      <td>22</td>\n",
       "    </tr>\n",
       "    <tr>\n",
       "      <th>102542</th>\n",
       "      <td>Lucas’s iPhone</td>\n",
       "      <td>15.4.1</td>\n",
       "      <td>&lt;&lt;HKDevice: 0x283e8ff70&gt;, name:iPhone, manufac...</td>\n",
       "      <td>StepCount</td>\n",
       "      <td>count</td>\n",
       "      <td>2022-05-08 20:55:57 -0300</td>\n",
       "      <td>2022-05-08 20:42:32 -0300</td>\n",
       "      <td>2022-05-08 20:43:36 -0300</td>\n",
       "      <td>83</td>\n",
       "    </tr>\n",
       "    <tr>\n",
       "      <th>102543</th>\n",
       "      <td>Lucas’s iPhone</td>\n",
       "      <td>15.4.1</td>\n",
       "      <td>&lt;&lt;HKDevice: 0x283e8ff70&gt;, name:iPhone, manufac...</td>\n",
       "      <td>StepCount</td>\n",
       "      <td>count</td>\n",
       "      <td>2022-05-08 21:50:51 -0300</td>\n",
       "      <td>2022-05-08 21:39:48 -0300</td>\n",
       "      <td>2022-05-08 21:48:53 -0300</td>\n",
       "      <td>67</td>\n",
       "    </tr>\n",
       "    <tr>\n",
       "      <th>102544</th>\n",
       "      <td>Lucas’s iPhone</td>\n",
       "      <td>15.4.1</td>\n",
       "      <td>&lt;&lt;HKDevice: 0x283e8ff70&gt;, name:iPhone, manufac...</td>\n",
       "      <td>StepCount</td>\n",
       "      <td>count</td>\n",
       "      <td>2022-05-08 22:00:55 -0300</td>\n",
       "      <td>2022-05-08 21:49:52 -0300</td>\n",
       "      <td>2022-05-08 21:50:08 -0300</td>\n",
       "      <td>19</td>\n",
       "    </tr>\n",
       "    <tr>\n",
       "      <th>102545</th>\n",
       "      <td>Lucas’s iPhone</td>\n",
       "      <td>15.4.1</td>\n",
       "      <td>&lt;&lt;HKDevice: 0x283e8ff70&gt;, name:iPhone, manufac...</td>\n",
       "      <td>StepCount</td>\n",
       "      <td>count</td>\n",
       "      <td>2022-05-08 22:27:39 -0300</td>\n",
       "      <td>2022-05-08 22:16:16 -0300</td>\n",
       "      <td>2022-05-08 22:18:12 -0300</td>\n",
       "      <td>39</td>\n",
       "    </tr>\n",
       "  </tbody>\n",
       "</table>\n",
       "</div>"
      ],
      "text/plain": [
       "                 sourceName sourceVersion  \\\n",
       "102541  Lucas’s Apple Watch         8.5.1   \n",
       "102542       Lucas’s iPhone        15.4.1   \n",
       "102543       Lucas’s iPhone        15.4.1   \n",
       "102544       Lucas’s iPhone        15.4.1   \n",
       "102545       Lucas’s iPhone        15.4.1   \n",
       "\n",
       "                                                   device       type   unit  \\\n",
       "102541  <<HKDevice: 0x283e8cb40>, name:Apple Watch, ma...  StepCount  count   \n",
       "102542  <<HKDevice: 0x283e8ff70>, name:iPhone, manufac...  StepCount  count   \n",
       "102543  <<HKDevice: 0x283e8ff70>, name:iPhone, manufac...  StepCount  count   \n",
       "102544  <<HKDevice: 0x283e8ff70>, name:iPhone, manufac...  StepCount  count   \n",
       "102545  <<HKDevice: 0x283e8ff70>, name:iPhone, manufac...  StepCount  count   \n",
       "\n",
       "                     creationDate                  startDate  \\\n",
       "102541  2022-05-08 20:33:15 -0300  2022-05-08 20:17:33 -0300   \n",
       "102542  2022-05-08 20:55:57 -0300  2022-05-08 20:42:32 -0300   \n",
       "102543  2022-05-08 21:50:51 -0300  2022-05-08 21:39:48 -0300   \n",
       "102544  2022-05-08 22:00:55 -0300  2022-05-08 21:49:52 -0300   \n",
       "102545  2022-05-08 22:27:39 -0300  2022-05-08 22:16:16 -0300   \n",
       "\n",
       "                          endDate  value  \n",
       "102541  2022-05-08 20:19:31 -0300     22  \n",
       "102542  2022-05-08 20:43:36 -0300     83  \n",
       "102543  2022-05-08 21:48:53 -0300     67  \n",
       "102544  2022-05-08 21:50:08 -0300     19  \n",
       "102545  2022-05-08 22:18:12 -0300     39  "
      ]
     },
     "execution_count": 11,
     "metadata": {},
     "output_type": "execute_result"
    }
   ],
   "source": [
    "steps.tail()"
   ]
  },
  {
   "cell_type": "code",
   "execution_count": 12,
   "metadata": {},
   "outputs": [
    {
     "data": {
      "text/plain": [
       "8092318"
      ]
     },
     "execution_count": 12,
     "metadata": {},
     "output_type": "execute_result"
    }
   ],
   "source": [
    "# total all-time steps\n",
    "steps.value.sum()"
   ]
  },
  {
   "cell_type": "markdown",
   "metadata": {},
   "source": [
    "-------"
   ]
  },
  {
   "cell_type": "markdown",
   "metadata": {},
   "source": [
    "## Stand Count"
   ]
  },
  {
   "cell_type": "code",
   "execution_count": 13,
   "metadata": {},
   "outputs": [],
   "source": [
    "stand = pd.read_csv(\"data/AppleStandHour.csv\")"
   ]
  },
  {
   "cell_type": "code",
   "execution_count": 14,
   "metadata": {},
   "outputs": [
    {
     "data": {
      "text/plain": [
       "24116"
      ]
     },
     "execution_count": 14,
     "metadata": {},
     "output_type": "execute_result"
    }
   ],
   "source": [
    "len(stand)"
   ]
  },
  {
   "cell_type": "code",
   "execution_count": 15,
   "metadata": {},
   "outputs": [
    {
     "data": {
      "text/plain": [
       "Index(['sourceName', 'sourceVersion', 'device', 'type', 'unit', 'creationDate',\n",
       "       'startDate', 'endDate', 'value'],\n",
       "      dtype='object')"
      ]
     },
     "execution_count": 15,
     "metadata": {},
     "output_type": "execute_result"
    }
   ],
   "source": [
    "stand.columns"
   ]
  },
  {
   "cell_type": "code",
   "execution_count": 16,
   "metadata": {},
   "outputs": [
    {
     "data": {
      "text/html": [
       "<div>\n",
       "<style scoped>\n",
       "    .dataframe tbody tr th:only-of-type {\n",
       "        vertical-align: middle;\n",
       "    }\n",
       "\n",
       "    .dataframe tbody tr th {\n",
       "        vertical-align: top;\n",
       "    }\n",
       "\n",
       "    .dataframe thead th {\n",
       "        text-align: right;\n",
       "    }\n",
       "</style>\n",
       "<table border=\"1\" class=\"dataframe\">\n",
       "  <thead>\n",
       "    <tr style=\"text-align: right;\">\n",
       "      <th></th>\n",
       "      <th>unit</th>\n",
       "    </tr>\n",
       "  </thead>\n",
       "  <tbody>\n",
       "    <tr>\n",
       "      <th>count</th>\n",
       "      <td>0.0</td>\n",
       "    </tr>\n",
       "    <tr>\n",
       "      <th>mean</th>\n",
       "      <td>NaN</td>\n",
       "    </tr>\n",
       "    <tr>\n",
       "      <th>std</th>\n",
       "      <td>NaN</td>\n",
       "    </tr>\n",
       "    <tr>\n",
       "      <th>min</th>\n",
       "      <td>NaN</td>\n",
       "    </tr>\n",
       "    <tr>\n",
       "      <th>25%</th>\n",
       "      <td>NaN</td>\n",
       "    </tr>\n",
       "    <tr>\n",
       "      <th>50%</th>\n",
       "      <td>NaN</td>\n",
       "    </tr>\n",
       "    <tr>\n",
       "      <th>75%</th>\n",
       "      <td>NaN</td>\n",
       "    </tr>\n",
       "    <tr>\n",
       "      <th>max</th>\n",
       "      <td>NaN</td>\n",
       "    </tr>\n",
       "  </tbody>\n",
       "</table>\n",
       "</div>"
      ],
      "text/plain": [
       "       unit\n",
       "count   0.0\n",
       "mean    NaN\n",
       "std     NaN\n",
       "min     NaN\n",
       "25%     NaN\n",
       "50%     NaN\n",
       "75%     NaN\n",
       "max     NaN"
      ]
     },
     "execution_count": 16,
     "metadata": {},
     "output_type": "execute_result"
    }
   ],
   "source": [
    "stand.describe()"
   ]
  },
  {
   "cell_type": "code",
   "execution_count": 17,
   "metadata": {},
   "outputs": [
    {
     "data": {
      "text/html": [
       "<div>\n",
       "<style scoped>\n",
       "    .dataframe tbody tr th:only-of-type {\n",
       "        vertical-align: middle;\n",
       "    }\n",
       "\n",
       "    .dataframe tbody tr th {\n",
       "        vertical-align: top;\n",
       "    }\n",
       "\n",
       "    .dataframe thead th {\n",
       "        text-align: right;\n",
       "    }\n",
       "</style>\n",
       "<table border=\"1\" class=\"dataframe\">\n",
       "  <thead>\n",
       "    <tr style=\"text-align: right;\">\n",
       "      <th></th>\n",
       "      <th>sourceName</th>\n",
       "      <th>sourceVersion</th>\n",
       "      <th>device</th>\n",
       "      <th>type</th>\n",
       "      <th>unit</th>\n",
       "      <th>creationDate</th>\n",
       "      <th>startDate</th>\n",
       "      <th>endDate</th>\n",
       "      <th>value</th>\n",
       "    </tr>\n",
       "  </thead>\n",
       "  <tbody>\n",
       "    <tr>\n",
       "      <th>24111</th>\n",
       "      <td>Lucas’s Apple Watch</td>\n",
       "      <td>8.5.1</td>\n",
       "      <td>&lt;&lt;HKDevice: 0x283e79e00&gt;, name:Apple Watch, ma...</td>\n",
       "      <td>AppleStandHour</td>\n",
       "      <td>NaN</td>\n",
       "      <td>2022-05-08 16:00:24 -0300</td>\n",
       "      <td>2022-05-08 15:00:00 -0300</td>\n",
       "      <td>2022-05-08 16:00:00 -0300</td>\n",
       "      <td>HKCategoryValueAppleStandHourIdle</td>\n",
       "    </tr>\n",
       "    <tr>\n",
       "      <th>24112</th>\n",
       "      <td>Lucas’s Apple Watch</td>\n",
       "      <td>8.5.1</td>\n",
       "      <td>&lt;&lt;HKDevice: 0x283e79e00&gt;, name:Apple Watch, ma...</td>\n",
       "      <td>AppleStandHour</td>\n",
       "      <td>NaN</td>\n",
       "      <td>2022-05-08 17:00:40 -0300</td>\n",
       "      <td>2022-05-08 16:00:00 -0300</td>\n",
       "      <td>2022-05-08 17:00:00 -0300</td>\n",
       "      <td>HKCategoryValueAppleStandHourIdle</td>\n",
       "    </tr>\n",
       "    <tr>\n",
       "      <th>24113</th>\n",
       "      <td>Lucas’s Apple Watch</td>\n",
       "      <td>8.5.1</td>\n",
       "      <td>&lt;&lt;HKDevice: 0x283e79e00&gt;, name:Apple Watch, ma...</td>\n",
       "      <td>AppleStandHour</td>\n",
       "      <td>NaN</td>\n",
       "      <td>2022-05-08 17:24:38 -0300</td>\n",
       "      <td>2022-05-08 17:00:00 -0300</td>\n",
       "      <td>2022-05-08 18:00:00 -0300</td>\n",
       "      <td>HKCategoryValueAppleStandHourStood</td>\n",
       "    </tr>\n",
       "    <tr>\n",
       "      <th>24114</th>\n",
       "      <td>Lucas’s Apple Watch</td>\n",
       "      <td>8.5.1</td>\n",
       "      <td>&lt;&lt;HKDevice: 0x283e79e00&gt;, name:Apple Watch, ma...</td>\n",
       "      <td>AppleStandHour</td>\n",
       "      <td>NaN</td>\n",
       "      <td>2022-05-08 19:04:16 -0300</td>\n",
       "      <td>2022-05-08 18:00:00 -0300</td>\n",
       "      <td>2022-05-08 19:00:00 -0300</td>\n",
       "      <td>HKCategoryValueAppleStandHourIdle</td>\n",
       "    </tr>\n",
       "    <tr>\n",
       "      <th>24115</th>\n",
       "      <td>Lucas’s Apple Watch</td>\n",
       "      <td>8.5.1</td>\n",
       "      <td>&lt;&lt;HKDevice: 0x283e79e00&gt;, name:Apple Watch, ma...</td>\n",
       "      <td>AppleStandHour</td>\n",
       "      <td>NaN</td>\n",
       "      <td>2022-05-08 20:02:08 -0300</td>\n",
       "      <td>2022-05-08 19:00:00 -0300</td>\n",
       "      <td>2022-05-08 20:00:00 -0300</td>\n",
       "      <td>HKCategoryValueAppleStandHourIdle</td>\n",
       "    </tr>\n",
       "  </tbody>\n",
       "</table>\n",
       "</div>"
      ],
      "text/plain": [
       "                sourceName sourceVersion  \\\n",
       "24111  Lucas’s Apple Watch         8.5.1   \n",
       "24112  Lucas’s Apple Watch         8.5.1   \n",
       "24113  Lucas’s Apple Watch         8.5.1   \n",
       "24114  Lucas’s Apple Watch         8.5.1   \n",
       "24115  Lucas’s Apple Watch         8.5.1   \n",
       "\n",
       "                                                  device            type  \\\n",
       "24111  <<HKDevice: 0x283e79e00>, name:Apple Watch, ma...  AppleStandHour   \n",
       "24112  <<HKDevice: 0x283e79e00>, name:Apple Watch, ma...  AppleStandHour   \n",
       "24113  <<HKDevice: 0x283e79e00>, name:Apple Watch, ma...  AppleStandHour   \n",
       "24114  <<HKDevice: 0x283e79e00>, name:Apple Watch, ma...  AppleStandHour   \n",
       "24115  <<HKDevice: 0x283e79e00>, name:Apple Watch, ma...  AppleStandHour   \n",
       "\n",
       "       unit               creationDate                  startDate  \\\n",
       "24111   NaN  2022-05-08 16:00:24 -0300  2022-05-08 15:00:00 -0300   \n",
       "24112   NaN  2022-05-08 17:00:40 -0300  2022-05-08 16:00:00 -0300   \n",
       "24113   NaN  2022-05-08 17:24:38 -0300  2022-05-08 17:00:00 -0300   \n",
       "24114   NaN  2022-05-08 19:04:16 -0300  2022-05-08 18:00:00 -0300   \n",
       "24115   NaN  2022-05-08 20:02:08 -0300  2022-05-08 19:00:00 -0300   \n",
       "\n",
       "                         endDate                               value  \n",
       "24111  2022-05-08 16:00:00 -0300   HKCategoryValueAppleStandHourIdle  \n",
       "24112  2022-05-08 17:00:00 -0300   HKCategoryValueAppleStandHourIdle  \n",
       "24113  2022-05-08 18:00:00 -0300  HKCategoryValueAppleStandHourStood  \n",
       "24114  2022-05-08 19:00:00 -0300   HKCategoryValueAppleStandHourIdle  \n",
       "24115  2022-05-08 20:00:00 -0300   HKCategoryValueAppleStandHourIdle  "
      ]
     },
     "execution_count": 17,
     "metadata": {},
     "output_type": "execute_result"
    }
   ],
   "source": [
    "stand.tail()"
   ]
  },
  {
   "cell_type": "markdown",
   "metadata": {},
   "source": [
    "------"
   ]
  },
  {
   "cell_type": "markdown",
   "metadata": {},
   "source": [
    "## Resting Heart Rate (HR)"
   ]
  },
  {
   "cell_type": "code",
   "execution_count": 18,
   "metadata": {},
   "outputs": [],
   "source": [
    "restingHR = pd.read_csv(\"data/RestingHeartRate.csv\")"
   ]
  },
  {
   "cell_type": "code",
   "execution_count": 19,
   "metadata": {},
   "outputs": [
    {
     "data": {
      "text/plain": [
       "1248"
      ]
     },
     "execution_count": 19,
     "metadata": {},
     "output_type": "execute_result"
    }
   ],
   "source": [
    "len(restingHR)"
   ]
  },
  {
   "cell_type": "code",
   "execution_count": 20,
   "metadata": {},
   "outputs": [
    {
     "data": {
      "text/html": [
       "<div>\n",
       "<style scoped>\n",
       "    .dataframe tbody tr th:only-of-type {\n",
       "        vertical-align: middle;\n",
       "    }\n",
       "\n",
       "    .dataframe tbody tr th {\n",
       "        vertical-align: top;\n",
       "    }\n",
       "\n",
       "    .dataframe thead th {\n",
       "        text-align: right;\n",
       "    }\n",
       "</style>\n",
       "<table border=\"1\" class=\"dataframe\">\n",
       "  <thead>\n",
       "    <tr style=\"text-align: right;\">\n",
       "      <th></th>\n",
       "      <th>device</th>\n",
       "      <th>value</th>\n",
       "    </tr>\n",
       "  </thead>\n",
       "  <tbody>\n",
       "    <tr>\n",
       "      <th>count</th>\n",
       "      <td>0.0</td>\n",
       "      <td>1248.000000</td>\n",
       "    </tr>\n",
       "    <tr>\n",
       "      <th>mean</th>\n",
       "      <td>NaN</td>\n",
       "      <td>56.843750</td>\n",
       "    </tr>\n",
       "    <tr>\n",
       "      <th>std</th>\n",
       "      <td>NaN</td>\n",
       "      <td>7.051678</td>\n",
       "    </tr>\n",
       "    <tr>\n",
       "      <th>min</th>\n",
       "      <td>NaN</td>\n",
       "      <td>38.000000</td>\n",
       "    </tr>\n",
       "    <tr>\n",
       "      <th>25%</th>\n",
       "      <td>NaN</td>\n",
       "      <td>51.000000</td>\n",
       "    </tr>\n",
       "    <tr>\n",
       "      <th>50%</th>\n",
       "      <td>NaN</td>\n",
       "      <td>57.000000</td>\n",
       "    </tr>\n",
       "    <tr>\n",
       "      <th>75%</th>\n",
       "      <td>NaN</td>\n",
       "      <td>62.000000</td>\n",
       "    </tr>\n",
       "    <tr>\n",
       "      <th>max</th>\n",
       "      <td>NaN</td>\n",
       "      <td>84.000000</td>\n",
       "    </tr>\n",
       "  </tbody>\n",
       "</table>\n",
       "</div>"
      ],
      "text/plain": [
       "       device        value\n",
       "count     0.0  1248.000000\n",
       "mean      NaN    56.843750\n",
       "std       NaN     7.051678\n",
       "min       NaN    38.000000\n",
       "25%       NaN    51.000000\n",
       "50%       NaN    57.000000\n",
       "75%       NaN    62.000000\n",
       "max       NaN    84.000000"
      ]
     },
     "execution_count": 20,
     "metadata": {},
     "output_type": "execute_result"
    }
   ],
   "source": [
    "restingHR.describe()"
   ]
  },
  {
   "cell_type": "markdown",
   "metadata": {},
   "source": [
    "---"
   ]
  },
  {
   "cell_type": "markdown",
   "metadata": {},
   "source": [
    "## Walking Heart Rate (HR) Average"
   ]
  },
  {
   "cell_type": "code",
   "execution_count": 21,
   "metadata": {},
   "outputs": [],
   "source": [
    "walkingHR = pd.read_csv(\"data/WalkingHeartRateAverage.csv\")"
   ]
  },
  {
   "cell_type": "code",
   "execution_count": 22,
   "metadata": {},
   "outputs": [
    {
     "data": {
      "text/plain": [
       "945"
      ]
     },
     "execution_count": 22,
     "metadata": {},
     "output_type": "execute_result"
    }
   ],
   "source": [
    "len(walkingHR)"
   ]
  },
  {
   "cell_type": "code",
   "execution_count": 23,
   "metadata": {},
   "outputs": [
    {
     "data": {
      "text/html": [
       "<div>\n",
       "<style scoped>\n",
       "    .dataframe tbody tr th:only-of-type {\n",
       "        vertical-align: middle;\n",
       "    }\n",
       "\n",
       "    .dataframe tbody tr th {\n",
       "        vertical-align: top;\n",
       "    }\n",
       "\n",
       "    .dataframe thead th {\n",
       "        text-align: right;\n",
       "    }\n",
       "</style>\n",
       "<table border=\"1\" class=\"dataframe\">\n",
       "  <thead>\n",
       "    <tr style=\"text-align: right;\">\n",
       "      <th></th>\n",
       "      <th>device</th>\n",
       "      <th>value</th>\n",
       "    </tr>\n",
       "  </thead>\n",
       "  <tbody>\n",
       "    <tr>\n",
       "      <th>count</th>\n",
       "      <td>0.0</td>\n",
       "      <td>945.000000</td>\n",
       "    </tr>\n",
       "    <tr>\n",
       "      <th>mean</th>\n",
       "      <td>NaN</td>\n",
       "      <td>94.522751</td>\n",
       "    </tr>\n",
       "    <tr>\n",
       "      <th>std</th>\n",
       "      <td>NaN</td>\n",
       "      <td>13.271998</td>\n",
       "    </tr>\n",
       "    <tr>\n",
       "      <th>min</th>\n",
       "      <td>NaN</td>\n",
       "      <td>60.000000</td>\n",
       "    </tr>\n",
       "    <tr>\n",
       "      <th>25%</th>\n",
       "      <td>NaN</td>\n",
       "      <td>85.500000</td>\n",
       "    </tr>\n",
       "    <tr>\n",
       "      <th>50%</th>\n",
       "      <td>NaN</td>\n",
       "      <td>94.000000</td>\n",
       "    </tr>\n",
       "    <tr>\n",
       "      <th>75%</th>\n",
       "      <td>NaN</td>\n",
       "      <td>102.000000</td>\n",
       "    </tr>\n",
       "    <tr>\n",
       "      <th>max</th>\n",
       "      <td>NaN</td>\n",
       "      <td>175.000000</td>\n",
       "    </tr>\n",
       "  </tbody>\n",
       "</table>\n",
       "</div>"
      ],
      "text/plain": [
       "       device       value\n",
       "count     0.0  945.000000\n",
       "mean      NaN   94.522751\n",
       "std       NaN   13.271998\n",
       "min       NaN   60.000000\n",
       "25%       NaN   85.500000\n",
       "50%       NaN   94.000000\n",
       "75%       NaN  102.000000\n",
       "max       NaN  175.000000"
      ]
     },
     "execution_count": 23,
     "metadata": {},
     "output_type": "execute_result"
    }
   ],
   "source": [
    "walkingHR.describe()"
   ]
  },
  {
   "cell_type": "markdown",
   "metadata": {},
   "source": [
    "---"
   ]
  },
  {
   "cell_type": "markdown",
   "metadata": {},
   "source": [
    "## Heart Rate Variability (HRV)"
   ]
  },
  {
   "cell_type": "code",
   "execution_count": 24,
   "metadata": {},
   "outputs": [],
   "source": [
    "hrv = pd.read_csv(\"data/HeartRateVariabilitySDNN.csv\")"
   ]
  },
  {
   "cell_type": "code",
   "execution_count": 25,
   "metadata": {},
   "outputs": [
    {
     "data": {
      "text/plain": [
       "7988"
      ]
     },
     "execution_count": 25,
     "metadata": {},
     "output_type": "execute_result"
    }
   ],
   "source": [
    "len(hrv)"
   ]
  },
  {
   "cell_type": "code",
   "execution_count": 26,
   "metadata": {},
   "outputs": [
    {
     "data": {
      "text/plain": [
       "Index(['sourceName', 'sourceVersion', 'device', 'type', 'unit', 'creationDate',\n",
       "       'startDate', 'endDate', 'value'],\n",
       "      dtype='object')"
      ]
     },
     "execution_count": 26,
     "metadata": {},
     "output_type": "execute_result"
    }
   ],
   "source": [
    "hrv.columns"
   ]
  },
  {
   "cell_type": "code",
   "execution_count": 26,
   "metadata": {},
   "outputs": [
    {
     "data": {
      "text/html": [
       "<div>\n",
       "<style>\n",
       "    .dataframe thead tr:only-child th {\n",
       "        text-align: right;\n",
       "    }\n",
       "\n",
       "    .dataframe thead th {\n",
       "        text-align: left;\n",
       "    }\n",
       "\n",
       "    .dataframe tbody tr th {\n",
       "        vertical-align: top;\n",
       "    }\n",
       "</style>\n",
       "<table border=\"1\" class=\"dataframe\">\n",
       "  <thead>\n",
       "    <tr style=\"text-align: right;\">\n",
       "      <th></th>\n",
       "      <th>sourceVersion</th>\n",
       "      <th>value</th>\n",
       "    </tr>\n",
       "  </thead>\n",
       "  <tbody>\n",
       "    <tr>\n",
       "      <th>count</th>\n",
       "      <td>1216.000000</td>\n",
       "      <td>1216.000000</td>\n",
       "    </tr>\n",
       "    <tr>\n",
       "      <th>mean</th>\n",
       "      <td>4.100000</td>\n",
       "      <td>35.646432</td>\n",
       "    </tr>\n",
       "    <tr>\n",
       "      <th>std</th>\n",
       "      <td>0.065168</td>\n",
       "      <td>18.154448</td>\n",
       "    </tr>\n",
       "    <tr>\n",
       "      <th>min</th>\n",
       "      <td>4.000000</td>\n",
       "      <td>8.463160</td>\n",
       "    </tr>\n",
       "    <tr>\n",
       "      <th>25%</th>\n",
       "      <td>4.100000</td>\n",
       "      <td>23.143600</td>\n",
       "    </tr>\n",
       "    <tr>\n",
       "      <th>50%</th>\n",
       "      <td>4.100000</td>\n",
       "      <td>31.748000</td>\n",
       "    </tr>\n",
       "    <tr>\n",
       "      <th>75%</th>\n",
       "      <td>4.100000</td>\n",
       "      <td>43.296950</td>\n",
       "    </tr>\n",
       "    <tr>\n",
       "      <th>max</th>\n",
       "      <td>4.300000</td>\n",
       "      <td>178.671000</td>\n",
       "    </tr>\n",
       "  </tbody>\n",
       "</table>\n",
       "</div>"
      ],
      "text/plain": [
       "       sourceVersion        value\n",
       "count    1216.000000  1216.000000\n",
       "mean        4.100000    35.646432\n",
       "std         0.065168    18.154448\n",
       "min         4.000000     8.463160\n",
       "25%         4.100000    23.143600\n",
       "50%         4.100000    31.748000\n",
       "75%         4.100000    43.296950\n",
       "max         4.300000   178.671000"
      ]
     },
     "execution_count": 26,
     "metadata": {},
     "output_type": "execute_result"
    }
   ],
   "source": [
    "hrv.describe()"
   ]
  },
  {
   "cell_type": "code",
   "execution_count": 27,
   "metadata": {},
   "outputs": [
    {
     "data": {
      "text/html": [
       "<div>\n",
       "<style scoped>\n",
       "    .dataframe tbody tr th:only-of-type {\n",
       "        vertical-align: middle;\n",
       "    }\n",
       "\n",
       "    .dataframe tbody tr th {\n",
       "        vertical-align: top;\n",
       "    }\n",
       "\n",
       "    .dataframe thead th {\n",
       "        text-align: right;\n",
       "    }\n",
       "</style>\n",
       "<table border=\"1\" class=\"dataframe\">\n",
       "  <thead>\n",
       "    <tr style=\"text-align: right;\">\n",
       "      <th></th>\n",
       "      <th>sourceName</th>\n",
       "      <th>sourceVersion</th>\n",
       "      <th>device</th>\n",
       "      <th>type</th>\n",
       "      <th>unit</th>\n",
       "      <th>creationDate</th>\n",
       "      <th>startDate</th>\n",
       "      <th>endDate</th>\n",
       "      <th>value</th>\n",
       "    </tr>\n",
       "  </thead>\n",
       "  <tbody>\n",
       "    <tr>\n",
       "      <th>7983</th>\n",
       "      <td>Lucas’s Apple Watch</td>\n",
       "      <td>8.5.1</td>\n",
       "      <td>&lt;&lt;HKDevice: 0x283eb9810&gt;, name:Apple Watch, ma...</td>\n",
       "      <td>HeartRateVariabilitySDNN</td>\n",
       "      <td>ms</td>\n",
       "      <td>2022-05-08 08:22:11 -0300</td>\n",
       "      <td>2022-05-08 08:21:05 -0300</td>\n",
       "      <td>2022-05-08 08:22:03 -0300</td>\n",
       "      <td>59.6249</td>\n",
       "    </tr>\n",
       "    <tr>\n",
       "      <th>7984</th>\n",
       "      <td>Lucas’s Apple Watch</td>\n",
       "      <td>8.5.1</td>\n",
       "      <td>&lt;&lt;HKDevice: 0x283eb9810&gt;, name:Apple Watch, ma...</td>\n",
       "      <td>HeartRateVariabilitySDNN</td>\n",
       "      <td>ms</td>\n",
       "      <td>2022-05-08 10:23:10 -0300</td>\n",
       "      <td>2022-05-08 10:22:05 -0300</td>\n",
       "      <td>2022-05-08 10:23:03 -0300</td>\n",
       "      <td>178.8700</td>\n",
       "    </tr>\n",
       "    <tr>\n",
       "      <th>7985</th>\n",
       "      <td>Lucas’s Apple Watch</td>\n",
       "      <td>8.5.1</td>\n",
       "      <td>&lt;&lt;HKDevice: 0x283eb9810&gt;, name:Apple Watch, ma...</td>\n",
       "      <td>HeartRateVariabilitySDNN</td>\n",
       "      <td>ms</td>\n",
       "      <td>2022-05-08 12:28:12 -0300</td>\n",
       "      <td>2022-05-08 12:27:11 -0300</td>\n",
       "      <td>2022-05-08 12:28:08 -0300</td>\n",
       "      <td>37.6049</td>\n",
       "    </tr>\n",
       "    <tr>\n",
       "      <th>7986</th>\n",
       "      <td>Lucas’s Apple Watch</td>\n",
       "      <td>8.5.1</td>\n",
       "      <td>&lt;&lt;HKDevice: 0x283eb9810&gt;, name:Apple Watch, ma...</td>\n",
       "      <td>HeartRateVariabilitySDNN</td>\n",
       "      <td>ms</td>\n",
       "      <td>2022-05-08 14:44:42 -0300</td>\n",
       "      <td>2022-05-08 14:43:38 -0300</td>\n",
       "      <td>2022-05-08 14:44:36 -0300</td>\n",
       "      <td>56.3765</td>\n",
       "    </tr>\n",
       "    <tr>\n",
       "      <th>7987</th>\n",
       "      <td>Lucas’s Apple Watch</td>\n",
       "      <td>8.5.1</td>\n",
       "      <td>&lt;&lt;HKDevice: 0x283eb9810&gt;, name:Apple Watch, ma...</td>\n",
       "      <td>HeartRateVariabilitySDNN</td>\n",
       "      <td>ms</td>\n",
       "      <td>2022-05-08 16:44:47 -0300</td>\n",
       "      <td>2022-05-08 16:43:41 -0300</td>\n",
       "      <td>2022-05-08 16:44:39 -0300</td>\n",
       "      <td>83.9673</td>\n",
       "    </tr>\n",
       "  </tbody>\n",
       "</table>\n",
       "</div>"
      ],
      "text/plain": [
       "               sourceName sourceVersion  \\\n",
       "7983  Lucas’s Apple Watch         8.5.1   \n",
       "7984  Lucas’s Apple Watch         8.5.1   \n",
       "7985  Lucas’s Apple Watch         8.5.1   \n",
       "7986  Lucas’s Apple Watch         8.5.1   \n",
       "7987  Lucas’s Apple Watch         8.5.1   \n",
       "\n",
       "                                                 device  \\\n",
       "7983  <<HKDevice: 0x283eb9810>, name:Apple Watch, ma...   \n",
       "7984  <<HKDevice: 0x283eb9810>, name:Apple Watch, ma...   \n",
       "7985  <<HKDevice: 0x283eb9810>, name:Apple Watch, ma...   \n",
       "7986  <<HKDevice: 0x283eb9810>, name:Apple Watch, ma...   \n",
       "7987  <<HKDevice: 0x283eb9810>, name:Apple Watch, ma...   \n",
       "\n",
       "                          type unit               creationDate  \\\n",
       "7983  HeartRateVariabilitySDNN   ms  2022-05-08 08:22:11 -0300   \n",
       "7984  HeartRateVariabilitySDNN   ms  2022-05-08 10:23:10 -0300   \n",
       "7985  HeartRateVariabilitySDNN   ms  2022-05-08 12:28:12 -0300   \n",
       "7986  HeartRateVariabilitySDNN   ms  2022-05-08 14:44:42 -0300   \n",
       "7987  HeartRateVariabilitySDNN   ms  2022-05-08 16:44:47 -0300   \n",
       "\n",
       "                      startDate                    endDate     value  \n",
       "7983  2022-05-08 08:21:05 -0300  2022-05-08 08:22:03 -0300   59.6249  \n",
       "7984  2022-05-08 10:22:05 -0300  2022-05-08 10:23:03 -0300  178.8700  \n",
       "7985  2022-05-08 12:27:11 -0300  2022-05-08 12:28:08 -0300   37.6049  \n",
       "7986  2022-05-08 14:43:38 -0300  2022-05-08 14:44:36 -0300   56.3765  \n",
       "7987  2022-05-08 16:43:41 -0300  2022-05-08 16:44:39 -0300   83.9673  "
      ]
     },
     "execution_count": 27,
     "metadata": {},
     "output_type": "execute_result"
    }
   ],
   "source": [
    "hrv.tail()"
   ]
  },
  {
   "cell_type": "markdown",
   "metadata": {},
   "source": [
    "-------"
   ]
  },
  {
   "cell_type": "markdown",
   "metadata": {},
   "source": [
    "## VO2 Max"
   ]
  },
  {
   "cell_type": "code",
   "execution_count": 28,
   "metadata": {},
   "outputs": [],
   "source": [
    "vo2max = pd.read_csv(\"data/VO2Max.csv\")"
   ]
  },
  {
   "cell_type": "code",
   "execution_count": 29,
   "metadata": {},
   "outputs": [
    {
     "data": {
      "text/plain": [
       "119"
      ]
     },
     "execution_count": 29,
     "metadata": {},
     "output_type": "execute_result"
    }
   ],
   "source": [
    "len(vo2max)"
   ]
  },
  {
   "cell_type": "code",
   "execution_count": 30,
   "metadata": {},
   "outputs": [
    {
     "data": {
      "text/html": [
       "<div>\n",
       "<style scoped>\n",
       "    .dataframe tbody tr th:only-of-type {\n",
       "        vertical-align: middle;\n",
       "    }\n",
       "\n",
       "    .dataframe tbody tr th {\n",
       "        vertical-align: top;\n",
       "    }\n",
       "\n",
       "    .dataframe thead th {\n",
       "        text-align: right;\n",
       "    }\n",
       "</style>\n",
       "<table border=\"1\" class=\"dataframe\">\n",
       "  <thead>\n",
       "    <tr style=\"text-align: right;\">\n",
       "      <th></th>\n",
       "      <th>device</th>\n",
       "      <th>value</th>\n",
       "    </tr>\n",
       "  </thead>\n",
       "  <tbody>\n",
       "    <tr>\n",
       "      <th>count</th>\n",
       "      <td>0.0</td>\n",
       "      <td>119.000000</td>\n",
       "    </tr>\n",
       "    <tr>\n",
       "      <th>mean</th>\n",
       "      <td>NaN</td>\n",
       "      <td>40.637208</td>\n",
       "    </tr>\n",
       "    <tr>\n",
       "      <th>std</th>\n",
       "      <td>NaN</td>\n",
       "      <td>1.900152</td>\n",
       "    </tr>\n",
       "    <tr>\n",
       "      <th>min</th>\n",
       "      <td>NaN</td>\n",
       "      <td>36.740000</td>\n",
       "    </tr>\n",
       "    <tr>\n",
       "      <th>25%</th>\n",
       "      <td>NaN</td>\n",
       "      <td>39.008300</td>\n",
       "    </tr>\n",
       "    <tr>\n",
       "      <th>50%</th>\n",
       "      <td>NaN</td>\n",
       "      <td>40.513900</td>\n",
       "    </tr>\n",
       "    <tr>\n",
       "      <th>75%</th>\n",
       "      <td>NaN</td>\n",
       "      <td>41.889350</td>\n",
       "    </tr>\n",
       "    <tr>\n",
       "      <th>max</th>\n",
       "      <td>NaN</td>\n",
       "      <td>45.030000</td>\n",
       "    </tr>\n",
       "  </tbody>\n",
       "</table>\n",
       "</div>"
      ],
      "text/plain": [
       "       device       value\n",
       "count     0.0  119.000000\n",
       "mean      NaN   40.637208\n",
       "std       NaN    1.900152\n",
       "min       NaN   36.740000\n",
       "25%       NaN   39.008300\n",
       "50%       NaN   40.513900\n",
       "75%       NaN   41.889350\n",
       "max       NaN   45.030000"
      ]
     },
     "execution_count": 30,
     "metadata": {},
     "output_type": "execute_result"
    }
   ],
   "source": [
    "vo2max.describe()"
   ]
  },
  {
   "cell_type": "markdown",
   "metadata": {},
   "source": [
    "----"
   ]
  },
  {
   "cell_type": "markdown",
   "metadata": {},
   "source": [
    "## Sleep"
   ]
  },
  {
   "cell_type": "code",
   "execution_count": 38,
   "metadata": {},
   "outputs": [],
   "source": [
    "sleep = pd.read_csv(\"data/SleepAnalysis.csv\")"
   ]
  },
  {
   "cell_type": "code",
   "execution_count": 39,
   "metadata": {},
   "outputs": [
    {
     "data": {
      "text/html": [
       "<div>\n",
       "<style scoped>\n",
       "    .dataframe tbody tr th:only-of-type {\n",
       "        vertical-align: middle;\n",
       "    }\n",
       "\n",
       "    .dataframe tbody tr th {\n",
       "        vertical-align: top;\n",
       "    }\n",
       "\n",
       "    .dataframe thead th {\n",
       "        text-align: right;\n",
       "    }\n",
       "</style>\n",
       "<table border=\"1\" class=\"dataframe\">\n",
       "  <thead>\n",
       "    <tr style=\"text-align: right;\">\n",
       "      <th></th>\n",
       "      <th>sourceName</th>\n",
       "      <th>sourceVersion</th>\n",
       "      <th>device</th>\n",
       "      <th>type</th>\n",
       "      <th>unit</th>\n",
       "      <th>creationDate</th>\n",
       "      <th>startDate</th>\n",
       "      <th>endDate</th>\n",
       "      <th>value</th>\n",
       "    </tr>\n",
       "  </thead>\n",
       "  <tbody>\n",
       "    <tr>\n",
       "      <th>3253</th>\n",
       "      <td>Lucas’s Apple Watch</td>\n",
       "      <td>8.5.1</td>\n",
       "      <td>NaN</td>\n",
       "      <td>SleepAnalysis</td>\n",
       "      <td>NaN</td>\n",
       "      <td>2022-05-06 09:01:30 -0300</td>\n",
       "      <td>2022-05-06 00:47:57 -0300</td>\n",
       "      <td>2022-05-06 00:49:27 -0300</td>\n",
       "      <td>HKCategoryValueSleepAnalysisAsleep</td>\n",
       "    </tr>\n",
       "    <tr>\n",
       "      <th>3254</th>\n",
       "      <td>Lucas’s Apple Watch</td>\n",
       "      <td>8.5.1</td>\n",
       "      <td>NaN</td>\n",
       "      <td>SleepAnalysis</td>\n",
       "      <td>NaN</td>\n",
       "      <td>2022-05-06 09:01:30 -0300</td>\n",
       "      <td>2022-05-06 00:50:27 -0300</td>\n",
       "      <td>2022-05-06 07:22:57 -0300</td>\n",
       "      <td>HKCategoryValueSleepAnalysisAsleep</td>\n",
       "    </tr>\n",
       "    <tr>\n",
       "      <th>3255</th>\n",
       "      <td>Lucas’s Apple Watch</td>\n",
       "      <td>8.5.1</td>\n",
       "      <td>NaN</td>\n",
       "      <td>SleepAnalysis</td>\n",
       "      <td>NaN</td>\n",
       "      <td>2022-05-06 09:01:30 -0300</td>\n",
       "      <td>2022-05-06 07:31:27 -0300</td>\n",
       "      <td>2022-05-06 08:24:27 -0300</td>\n",
       "      <td>HKCategoryValueSleepAnalysisAsleep</td>\n",
       "    </tr>\n",
       "    <tr>\n",
       "      <th>3256</th>\n",
       "      <td>Lucas’s Apple Watch</td>\n",
       "      <td>8.5.1</td>\n",
       "      <td>NaN</td>\n",
       "      <td>SleepAnalysis</td>\n",
       "      <td>NaN</td>\n",
       "      <td>2022-05-06 09:01:30 -0300</td>\n",
       "      <td>2022-05-06 08:30:27 -0300</td>\n",
       "      <td>2022-05-06 08:44:27 -0300</td>\n",
       "      <td>HKCategoryValueSleepAnalysisAsleep</td>\n",
       "    </tr>\n",
       "    <tr>\n",
       "      <th>3257</th>\n",
       "      <td>Lucas’s iPhone</td>\n",
       "      <td>15.4.1</td>\n",
       "      <td>NaN</td>\n",
       "      <td>SleepAnalysis</td>\n",
       "      <td>NaN</td>\n",
       "      <td>2022-05-06 09:01:28 -0300</td>\n",
       "      <td>2022-05-06 00:29:34 -0300</td>\n",
       "      <td>2022-05-06 08:52:24 -0300</td>\n",
       "      <td>HKCategoryValueSleepAnalysisInBed</td>\n",
       "    </tr>\n",
       "  </tbody>\n",
       "</table>\n",
       "</div>"
      ],
      "text/plain": [
       "               sourceName sourceVersion device           type  unit  \\\n",
       "3253  Lucas’s Apple Watch         8.5.1    NaN  SleepAnalysis   NaN   \n",
       "3254  Lucas’s Apple Watch         8.5.1    NaN  SleepAnalysis   NaN   \n",
       "3255  Lucas’s Apple Watch         8.5.1    NaN  SleepAnalysis   NaN   \n",
       "3256  Lucas’s Apple Watch         8.5.1    NaN  SleepAnalysis   NaN   \n",
       "3257       Lucas’s iPhone        15.4.1    NaN  SleepAnalysis   NaN   \n",
       "\n",
       "                   creationDate                  startDate  \\\n",
       "3253  2022-05-06 09:01:30 -0300  2022-05-06 00:47:57 -0300   \n",
       "3254  2022-05-06 09:01:30 -0300  2022-05-06 00:50:27 -0300   \n",
       "3255  2022-05-06 09:01:30 -0300  2022-05-06 07:31:27 -0300   \n",
       "3256  2022-05-06 09:01:30 -0300  2022-05-06 08:30:27 -0300   \n",
       "3257  2022-05-06 09:01:28 -0300  2022-05-06 00:29:34 -0300   \n",
       "\n",
       "                        endDate                               value  \n",
       "3253  2022-05-06 00:49:27 -0300  HKCategoryValueSleepAnalysisAsleep  \n",
       "3254  2022-05-06 07:22:57 -0300  HKCategoryValueSleepAnalysisAsleep  \n",
       "3255  2022-05-06 08:24:27 -0300  HKCategoryValueSleepAnalysisAsleep  \n",
       "3256  2022-05-06 08:44:27 -0300  HKCategoryValueSleepAnalysisAsleep  \n",
       "3257  2022-05-06 08:52:24 -0300   HKCategoryValueSleepAnalysisInBed  "
      ]
     },
     "execution_count": 39,
     "metadata": {},
     "output_type": "execute_result"
    }
   ],
   "source": [
    "sleep.tail()"
   ]
  },
  {
   "cell_type": "code",
   "execution_count": 40,
   "metadata": {},
   "outputs": [
    {
     "data": {
      "text/html": [
       "<div>\n",
       "<style scoped>\n",
       "    .dataframe tbody tr th:only-of-type {\n",
       "        vertical-align: middle;\n",
       "    }\n",
       "\n",
       "    .dataframe tbody tr th {\n",
       "        vertical-align: top;\n",
       "    }\n",
       "\n",
       "    .dataframe thead th {\n",
       "        text-align: right;\n",
       "    }\n",
       "</style>\n",
       "<table border=\"1\" class=\"dataframe\">\n",
       "  <thead>\n",
       "    <tr style=\"text-align: right;\">\n",
       "      <th></th>\n",
       "      <th>unit</th>\n",
       "    </tr>\n",
       "  </thead>\n",
       "  <tbody>\n",
       "    <tr>\n",
       "      <th>count</th>\n",
       "      <td>0.0</td>\n",
       "    </tr>\n",
       "    <tr>\n",
       "      <th>mean</th>\n",
       "      <td>NaN</td>\n",
       "    </tr>\n",
       "    <tr>\n",
       "      <th>std</th>\n",
       "      <td>NaN</td>\n",
       "    </tr>\n",
       "    <tr>\n",
       "      <th>min</th>\n",
       "      <td>NaN</td>\n",
       "    </tr>\n",
       "    <tr>\n",
       "      <th>25%</th>\n",
       "      <td>NaN</td>\n",
       "    </tr>\n",
       "    <tr>\n",
       "      <th>50%</th>\n",
       "      <td>NaN</td>\n",
       "    </tr>\n",
       "    <tr>\n",
       "      <th>75%</th>\n",
       "      <td>NaN</td>\n",
       "    </tr>\n",
       "    <tr>\n",
       "      <th>max</th>\n",
       "      <td>NaN</td>\n",
       "    </tr>\n",
       "  </tbody>\n",
       "</table>\n",
       "</div>"
      ],
      "text/plain": [
       "       unit\n",
       "count   0.0\n",
       "mean    NaN\n",
       "std     NaN\n",
       "min     NaN\n",
       "25%     NaN\n",
       "50%     NaN\n",
       "75%     NaN\n",
       "max     NaN"
      ]
     },
     "execution_count": 40,
     "metadata": {},
     "output_type": "execute_result"
    }
   ],
   "source": [
    "sleep.describe()"
   ]
  },
  {
   "cell_type": "code",
   "execution_count": null,
   "metadata": {},
   "outputs": [],
   "source": []
  }
 ],
 "metadata": {
  "kernelspec": {
   "display_name": "Python 3 (ipykernel)",
   "language": "python",
   "name": "python3"
  },
  "language_info": {
   "codemirror_mode": {
    "name": "ipython",
    "version": 3
   },
   "file_extension": ".py",
   "mimetype": "text/x-python",
   "name": "python",
   "nbconvert_exporter": "python",
   "pygments_lexer": "ipython3",
   "version": "3.9.7"
  }
 },
 "nbformat": 4,
 "nbformat_minor": 2
}
